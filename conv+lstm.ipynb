{
 "cells": [
  {
   "cell_type": "code",
   "execution_count": 1,
   "id": "391deeca",
   "metadata": {
    "executionInfo": {
     "elapsed": 4534,
     "status": "ok",
     "timestamp": 1681139921489,
     "user": {
      "displayName": "Kiệt Cáp Đặng Xuân",
      "userId": "08334112914151232628"
     },
     "user_tz": -480
    },
    "id": "391deeca"
   },
   "outputs": [],
   "source": [
    "import torch\n",
    "import torch.nn as nn\n",
    "from torch.utils.data import Dataset, DataLoader\n",
    "import torch.nn.functional as F"
   ]
  },
  {
   "cell_type": "code",
   "execution_count": 2,
   "id": "10d26069",
   "metadata": {
    "executionInfo": {
     "elapsed": 1806,
     "status": "ok",
     "timestamp": 1681139923293,
     "user": {
      "displayName": "Kiệt Cáp Đặng Xuân",
      "userId": "08334112914151232628"
     },
     "user_tz": -480
    },
    "id": "10d26069"
   },
   "outputs": [],
   "source": [
    "import pandas as pd"
   ]
  },
  {
   "cell_type": "code",
   "execution_count": 3,
   "id": "91cc8ebf",
   "metadata": {
    "executionInfo": {
     "elapsed": 4,
     "status": "ok",
     "timestamp": 1681139923293,
     "user": {
      "displayName": "Kiệt Cáp Đặng Xuân",
      "userId": "08334112914151232628"
     },
     "user_tz": -480
    },
    "id": "91cc8ebf"
   },
   "outputs": [],
   "source": [
    "import os\n",
    "import tqdm"
   ]
  },
  {
   "cell_type": "code",
   "execution_count": 4,
   "id": "f99470a9",
   "metadata": {
    "executionInfo": {
     "elapsed": 886,
     "status": "ok",
     "timestamp": 1681139974696,
     "user": {
      "displayName": "Kiệt Cáp Đặng Xuân",
      "userId": "08334112914151232628"
     },
     "user_tz": -480
    },
    "id": "f99470a9"
   },
   "outputs": [],
   "source": [
    "batch_size = 32\n",
    "device = 'cuda:0'"
   ]
  },
  {
   "cell_type": "markdown",
   "id": "94c0d113",
   "metadata": {
    "id": "94c0d113"
   },
   "source": [
    "# Conv + LSTM "
   ]
  },
  {
   "cell_type": "code",
   "execution_count": 94,
   "id": "cf2e7bb5",
   "metadata": {
    "executionInfo": {
     "elapsed": 4,
     "status": "ok",
     "timestamp": 1681139924163,
     "user": {
      "displayName": "Kiệt Cáp Đặng Xuân",
      "userId": "08334112914151232628"
     },
     "user_tz": -480
    },
    "id": "cf2e7bb5"
   },
   "outputs": [],
   "source": [
    "class ConvLSTM(nn.Module):\n",
    "    def __init__(self, n_features, n_hidden, seq_len, n_layers,device='cpu'):\n",
    "        super(ConvLSTM, self).__init__()\n",
    "        self.n_hidden = n_hidden\n",
    "        self.seq_len = seq_len\n",
    "        self.n_layers = n_layers\n",
    "        self.c1 = nn.Conv1d(in_channels=1, out_channels=1, kernel_size = 3, stride = 1) # Add a 1D CNN layer\n",
    "        self.pool = nn.MaxPool1d(kernel_size=3,stride = 1)\n",
    "        self.lstm = nn.LSTM(\n",
    "            input_size=seq_len-4,\n",
    "            hidden_size=n_hidden,\n",
    "            num_layers=n_layers\n",
    "        )\n",
    "        self.linear1 = nn.Linear(in_features=n_hidden,out_features=n_hidden)\n",
    "        self.linear2 = nn.Linear(in_features=n_hidden,out_features=6)\n",
    "        \n",
    "        \n",
    "    def forward(self, sequences):\n",
    "        sequences = F.relu(self.c1(sequences.view(len(sequences), 1, -1)))\n",
    "        sequences = self.pool(sequences)\n",
    "#         self.hidden = self.reset_hidden_state()\n",
    "        \n",
    "#         self.hidden = (\n",
    "#         torch.zeros(self.n_layers, self.seq_len-4, self.n_hidden,device = sequences.device),\n",
    "#         torch.zeros(self.n_layers, self.seq_len-4, self.n_hidden, device = sequences.device)\n",
    "#         )\n",
    "    \n",
    "        lstm_out, _ = self.lstm(\n",
    "            sequences.view(len(sequences), self.seq_len-4)\n",
    "        )\n",
    "        last_time_step = lstm_out.view(lstm_out.shape[0], -1, self.n_hidden)\n",
    "        y_pred = F.relu(self.linear1(last_time_step))\n",
    "        y_pred = F.relu(self.linear2(y_pred))\n",
    "       \n",
    "        return y_pred.view(-1,6)"
   ]
  },
  {
   "cell_type": "markdown",
   "id": "2c0566ab",
   "metadata": {
    "id": "2c0566ab"
   },
   "source": [
    "# Read Data"
   ]
  },
  {
   "cell_type": "code",
   "execution_count": 6,
   "id": "31Yl3RYJbqpr",
   "metadata": {
    "executionInfo": {
     "elapsed": 3,
     "status": "ok",
     "timestamp": 1681139924163,
     "user": {
      "displayName": "Kiệt Cáp Đặng Xuân",
      "userId": "08334112914151232628"
     },
     "user_tz": -480
    },
    "id": "31Yl3RYJbqpr"
   },
   "outputs": [],
   "source": [
    "import pickle\n",
    "import numpy as np"
   ]
  },
  {
   "cell_type": "code",
   "execution_count": 7,
   "id": "da5f5f3c",
   "metadata": {},
   "outputs": [
    {
     "name": "stderr",
     "output_type": "stream",
     "text": [
      "/tmp/ipykernel_1754392/1213216311.py:5: VisibleDeprecationWarning: Creating an ndarray from ragged nested sequences (which is a list-or-tuple of lists-or-tuples-or ndarrays with different lengths or shapes) is deprecated. If you meant to do this, you must specify 'dtype=object' when creating the ndarray.\n",
      "  virus_data_test.append(np.array([idx,np.array(i)]))\n",
      "/tmp/ipykernel_1754392/1213216311.py:5: VisibleDeprecationWarning: Creating an ndarray from ragged nested sequences (which is a list-or-tuple of lists-or-tuples-or ndarrays with different lengths or shapes) is deprecated. If you meant to do this, you must specify 'dtype=object' when creating the ndarray.\n",
      "  virus_data_test.append(np.array([idx,np.array(i)]))\n",
      "/tmp/ipykernel_1754392/1213216311.py:5: VisibleDeprecationWarning: Creating an ndarray from ragged nested sequences (which is a list-or-tuple of lists-or-tuples-or ndarrays with different lengths or shapes) is deprecated. If you meant to do this, you must specify 'dtype=object' when creating the ndarray.\n",
      "  virus_data_test.append(np.array([idx,np.array(i)]))\n",
      "/tmp/ipykernel_1754392/1213216311.py:5: VisibleDeprecationWarning: Creating an ndarray from ragged nested sequences (which is a list-or-tuple of lists-or-tuples-or ndarrays with different lengths or shapes) is deprecated. If you meant to do this, you must specify 'dtype=object' when creating the ndarray.\n",
      "  virus_data_test.append(np.array([idx,np.array(i)]))\n",
      "/tmp/ipykernel_1754392/1213216311.py:5: VisibleDeprecationWarning: Creating an ndarray from ragged nested sequences (which is a list-or-tuple of lists-or-tuples-or ndarrays with different lengths or shapes) is deprecated. If you meant to do this, you must specify 'dtype=object' when creating the ndarray.\n",
      "  virus_data_test.append(np.array([idx,np.array(i)]))\n",
      "/tmp/ipykernel_1754392/1213216311.py:5: VisibleDeprecationWarning: Creating an ndarray from ragged nested sequences (which is a list-or-tuple of lists-or-tuples-or ndarrays with different lengths or shapes) is deprecated. If you meant to do this, you must specify 'dtype=object' when creating the ndarray.\n",
      "  virus_data_test.append(np.array([idx,np.array(i)]))\n"
     ]
    }
   ],
   "source": [
    "virus_data_test = []\n",
    "for idx, file in enumerate(os.listdir('data/test/')):\n",
    "    array = pd.read_pickle(os.path.join('data/test',file))\n",
    "    for i in array:\n",
    "        virus_data_test.append(np.array([idx,np.array(i)]))\n",
    "    del array\n"
   ]
  },
  {
   "cell_type": "code",
   "execution_count": 8,
   "id": "39b8cf45",
   "metadata": {},
   "outputs": [
    {
     "name": "stderr",
     "output_type": "stream",
     "text": [
      "/tmp/ipykernel_1754392/2924838528.py:5: VisibleDeprecationWarning: Creating an ndarray from ragged nested sequences (which is a list-or-tuple of lists-or-tuples-or ndarrays with different lengths or shapes) is deprecated. If you meant to do this, you must specify 'dtype=object' when creating the ndarray.\n",
      "  virus_data_val.append(np.array([idx,np.array(i)]))\n",
      "/tmp/ipykernel_1754392/2924838528.py:5: VisibleDeprecationWarning: Creating an ndarray from ragged nested sequences (which is a list-or-tuple of lists-or-tuples-or ndarrays with different lengths or shapes) is deprecated. If you meant to do this, you must specify 'dtype=object' when creating the ndarray.\n",
      "  virus_data_val.append(np.array([idx,np.array(i)]))\n",
      "/tmp/ipykernel_1754392/2924838528.py:5: VisibleDeprecationWarning: Creating an ndarray from ragged nested sequences (which is a list-or-tuple of lists-or-tuples-or ndarrays with different lengths or shapes) is deprecated. If you meant to do this, you must specify 'dtype=object' when creating the ndarray.\n",
      "  virus_data_val.append(np.array([idx,np.array(i)]))\n",
      "/tmp/ipykernel_1754392/2924838528.py:5: VisibleDeprecationWarning: Creating an ndarray from ragged nested sequences (which is a list-or-tuple of lists-or-tuples-or ndarrays with different lengths or shapes) is deprecated. If you meant to do this, you must specify 'dtype=object' when creating the ndarray.\n",
      "  virus_data_val.append(np.array([idx,np.array(i)]))\n",
      "/tmp/ipykernel_1754392/2924838528.py:5: VisibleDeprecationWarning: Creating an ndarray from ragged nested sequences (which is a list-or-tuple of lists-or-tuples-or ndarrays with different lengths or shapes) is deprecated. If you meant to do this, you must specify 'dtype=object' when creating the ndarray.\n",
      "  virus_data_val.append(np.array([idx,np.array(i)]))\n",
      "/tmp/ipykernel_1754392/2924838528.py:5: VisibleDeprecationWarning: Creating an ndarray from ragged nested sequences (which is a list-or-tuple of lists-or-tuples-or ndarrays with different lengths or shapes) is deprecated. If you meant to do this, you must specify 'dtype=object' when creating the ndarray.\n",
      "  virus_data_val.append(np.array([idx,np.array(i)]))\n"
     ]
    }
   ],
   "source": [
    "virus_data_val = []\n",
    "for idx, file in enumerate(os.listdir('data/validation/')):\n",
    "    array = pd.read_pickle(os.path.join('data/validation',file))\n",
    "    for i in array:\n",
    "        virus_data_val.append(np.array([idx,np.array(i)]))\n",
    "    del array\n"
   ]
  },
  {
   "cell_type": "code",
   "execution_count": 9,
   "id": "572549c2",
   "metadata": {
    "colab": {
     "base_uri": "https://localhost:8080/"
    },
    "executionInfo": {
     "elapsed": 13340,
     "status": "ok",
     "timestamp": 1681139937500,
     "user": {
      "displayName": "Kiệt Cáp Đặng Xuân",
      "userId": "08334112914151232628"
     },
     "user_tz": -480
    },
    "id": "572549c2",
    "outputId": "567a4dff-d25a-4b2b-e7df-09813719d3f6"
   },
   "outputs": [
    {
     "name": "stderr",
     "output_type": "stream",
     "text": [
      "/tmp/ipykernel_1754392/3891729634.py:6: VisibleDeprecationWarning: Creating an ndarray from ragged nested sequences (which is a list-or-tuple of lists-or-tuples-or ndarrays with different lengths or shapes) is deprecated. If you meant to do this, you must specify 'dtype=object' when creating the ndarray.\n",
      "  virus_data.append(np.array([idx,np.array(i)]))\n",
      "/tmp/ipykernel_1754392/3891729634.py:6: VisibleDeprecationWarning: Creating an ndarray from ragged nested sequences (which is a list-or-tuple of lists-or-tuples-or ndarrays with different lengths or shapes) is deprecated. If you meant to do this, you must specify 'dtype=object' when creating the ndarray.\n",
      "  virus_data.append(np.array([idx,np.array(i)]))\n",
      "/tmp/ipykernel_1754392/3891729634.py:6: VisibleDeprecationWarning: Creating an ndarray from ragged nested sequences (which is a list-or-tuple of lists-or-tuples-or ndarrays with different lengths or shapes) is deprecated. If you meant to do this, you must specify 'dtype=object' when creating the ndarray.\n",
      "  virus_data.append(np.array([idx,np.array(i)]))\n",
      "/tmp/ipykernel_1754392/3891729634.py:6: VisibleDeprecationWarning: Creating an ndarray from ragged nested sequences (which is a list-or-tuple of lists-or-tuples-or ndarrays with different lengths or shapes) is deprecated. If you meant to do this, you must specify 'dtype=object' when creating the ndarray.\n",
      "  virus_data.append(np.array([idx,np.array(i)]))\n",
      "/tmp/ipykernel_1754392/3891729634.py:6: VisibleDeprecationWarning: Creating an ndarray from ragged nested sequences (which is a list-or-tuple of lists-or-tuples-or ndarrays with different lengths or shapes) is deprecated. If you meant to do this, you must specify 'dtype=object' when creating the ndarray.\n",
      "  virus_data.append(np.array([idx,np.array(i)]))\n",
      "/tmp/ipykernel_1754392/3891729634.py:6: VisibleDeprecationWarning: Creating an ndarray from ragged nested sequences (which is a list-or-tuple of lists-or-tuples-or ndarrays with different lengths or shapes) is deprecated. If you meant to do this, you must specify 'dtype=object' when creating the ndarray.\n",
      "  virus_data.append(np.array([idx,np.array(i)]))\n"
     ]
    }
   ],
   "source": [
    "#train data\n",
    "virus_data = []\n",
    "for idx, file in enumerate(os.listdir('data/training/')):\n",
    "    array = pd.read_pickle(os.path.join('data/training',file))\n",
    "    for i in array:\n",
    "        virus_data.append(np.array([idx,np.array(i)]))\n",
    "    del array\n",
    "\n",
    "#val data\n",
    "\n",
    "\n",
    "# encodings_ = []\n",
    "# labels_ = []\n",
    "# for label, fasta_filename in enumerate(os.listdir('data/training/')):\n",
    "#     with open(os.path.join('data/training',fasta_filename), 'rb') as pkfile:\n",
    "#         file_encodings = pickle.load(pkfile)\n",
    "#         encodings_.extend([np.array(enc) for enc in file_encodings])  # Convert nested lists to NumPy arrays\n",
    "#         labels_.extend([label] * len(file_encodings))\n",
    "#         del file_encodings\n",
    "\n",
    "# encodings = np.array(encodings_, dtype=object)\n",
    "# labels = np.array(labels_)\n",
    "# del encodings_\n",
    "# del labels_\n",
    "# # Find the maximum sequence length\n",
    "# max_seq_len = max([enc.shape[0] for enc in encodings])\n",
    "\n",
    "# # Pad encodings with zeros to create tensors\n",
    "# encodings_padded = []\n",
    "# for enc in encodings:\n",
    "#     pad_rows = max_seq_len - enc.shape[0]\n",
    "#     enc_padded = np.pad(enc, (0, pad_rows), mode='constant', constant_values=0)\n",
    "#     encodings_padded.append(enc_padded)\n",
    "# del encodings\n",
    "# encodings = np.stack(encodings_padded)\n",
    "# del encodings_padded"
   ]
  },
  {
   "cell_type": "code",
   "execution_count": 10,
   "id": "hhrD1nSah1TW",
   "metadata": {
    "executionInfo": {
     "elapsed": 11,
     "status": "ok",
     "timestamp": 1681139937501,
     "user": {
      "displayName": "Kiệt Cáp Đặng Xuân",
      "userId": "08334112914151232628"
     },
     "user_tz": -480
    },
    "id": "hhrD1nSah1TW"
   },
   "outputs": [],
   "source": [
    "virus_data = np.array(virus_data)\n",
    "virus_data_val = np.array(virus_data_val)"
   ]
  },
  {
   "cell_type": "code",
   "execution_count": 11,
   "id": "0cbba211",
   "metadata": {},
   "outputs": [],
   "source": [
    "virus_data_test= np.array(virus_data_test)"
   ]
  },
  {
   "cell_type": "code",
   "execution_count": 12,
   "id": "56ff20f4",
   "metadata": {},
   "outputs": [],
   "source": [
    "max_seq_len_train = max([enc.shape[0] for enc in virus_data[...,1]])\n",
    "max_seq_len_val = max([enc.shape[0] for enc in virus_data_val[...,1]])\n",
    "max_seq_len_test = max(enc.shape[0] for enc in virus_data_test[...,1])\n"
   ]
  },
  {
   "cell_type": "code",
   "execution_count": 13,
   "id": "xRI7xrMgiGj-",
   "metadata": {
    "executionInfo": {
     "elapsed": 2603,
     "status": "ok",
     "timestamp": 1681139940094,
     "user": {
      "displayName": "Kiệt Cáp Đặng Xuân",
      "userId": "08334112914151232628"
     },
     "user_tz": -480
    },
    "id": "xRI7xrMgiGj-"
   },
   "outputs": [],
   "source": [
    "max_seq_len = max([max_seq_len_train,max_seq_len_val,max_seq_len_test])\n",
    "\n",
    "# Pad encodings with zeros to create tensors\n",
    "encodings_padded = []\n",
    "for enc in  virus_data[...,1]:\n",
    "    pad_rows = max_seq_len - enc.shape[0]\n",
    "    enc_padded = np.pad(enc, (0, pad_rows), mode='constant', constant_values=0)\n",
    "    encodings_padded.append(enc_padded)\n"
   ]
  },
  {
   "cell_type": "code",
   "execution_count": 14,
   "id": "170fdd3c",
   "metadata": {},
   "outputs": [],
   "source": [
    "encodings_padded_val = []\n",
    "for enc in  virus_data_val[...,1]:\n",
    "    pad_rows = max_seq_len - enc.shape[0]\n",
    "    enc_padded = np.pad(enc, (0, pad_rows), mode='constant', constant_values=0)\n",
    "    encodings_padded_val.append(enc_padded)\n",
    "    \n",
    "encodings_padded_test = []\n",
    "for enc in  virus_data_test[...,1]:\n",
    "    pad_rows = max_seq_len - enc.shape[0]\n",
    "    enc_padded = np.pad(enc, (0, pad_rows), mode='constant', constant_values=0)\n",
    "    encodings_padded_test.append(enc_padded)"
   ]
  },
  {
   "cell_type": "code",
   "execution_count": 15,
   "id": "7e978f4d",
   "metadata": {},
   "outputs": [],
   "source": [
    "def normalize_encodings(encodings):\n",
    "    mean = np.mean(encodings)\n",
    "    std = np.std(encodings)\n",
    "    return (encodings -mean)/std\n",
    "\n",
    "encodings_padded = normalize_encodings(encodings_padded)\n",
    "encodings_padded_val = normalize_encodings(encodings_padded_val)\n",
    "encodings_padded_test = normalize_encodings(encodings_padded_test)"
   ]
  },
  {
   "cell_type": "markdown",
   "id": "ec75020d",
   "metadata": {
    "id": "ec75020d"
   },
   "source": [
    "# Dataset"
   ]
  },
  {
   "cell_type": "code",
   "execution_count": 16,
   "id": "d2f4ba18",
   "metadata": {
    "executionInfo": {
     "elapsed": 288,
     "status": "ok",
     "timestamp": 1681139957047,
     "user": {
      "displayName": "Kiệt Cáp Đặng Xuân",
      "userId": "08334112914151232628"
     },
     "user_tz": -480
    },
    "id": "d2f4ba18"
   },
   "outputs": [],
   "source": [
    "class VirusDataset(Dataset):\n",
    "    def __init__(self,data,label):\n",
    "        self.data = data\n",
    "        self.label = label\n",
    "    \n",
    "    def __len__(self):\n",
    "        return len(self.data)\n",
    "    \n",
    "    def __getitem__(self,idx):\n",
    "        return torch.Tensor(self.data[idx]),self.label[idx]"
   ]
  },
  {
   "cell_type": "code",
   "execution_count": 25,
   "id": "d881ceb5",
   "metadata": {
    "executionInfo": {
     "elapsed": 2,
     "status": "ok",
     "timestamp": 1681139959003,
     "user": {
      "displayName": "Kiệt Cáp Đặng Xuân",
      "userId": "08334112914151232628"
     },
     "user_tz": -480
    },
    "id": "d881ceb5"
   },
   "outputs": [],
   "source": [
    "train_dataset = VirusDataset(encodings_padded,virus_data[...,0])\n",
    "val_dataset = VirusDataset(encodings_padded_val,virus_data_val[...,0])\n",
    "test_dataset = VirusDataset(encodings_padded_test,virus_data_test[...,0])"
   ]
  },
  {
   "cell_type": "code",
   "execution_count": 26,
   "id": "ab49adf7",
   "metadata": {
    "executionInfo": {
     "elapsed": 1,
     "status": "ok",
     "timestamp": 1681139960100,
     "user": {
      "displayName": "Kiệt Cáp Đặng Xuân",
      "userId": "08334112914151232628"
     },
     "user_tz": -480
    },
    "id": "ab49adf7"
   },
   "outputs": [],
   "source": [
    "train_loader = DataLoader(train_dataset, batch_size=batch_size,shuffle=True)\n",
    "val_loader = DataLoader(val_dataset, batch_size=batch_size,shuffle=True)\n",
    "test_loader = DataLoader(test_dataset, batch_size=batch_size,shuffle=True)\n"
   ]
  },
  {
   "cell_type": "markdown",
   "id": "2819c204",
   "metadata": {
    "id": "2819c204"
   },
   "source": [
    "# Training"
   ]
  },
  {
   "cell_type": "code",
   "execution_count": 95,
   "id": "03478e44",
   "metadata": {
    "executionInfo": {
     "elapsed": 355,
     "status": "ok",
     "timestamp": 1681139979689,
     "user": {
      "displayName": "Kiệt Cáp Đặng Xuân",
      "userId": "08334112914151232628"
     },
     "user_tz": -480
    },
    "id": "03478e44"
   },
   "outputs": [],
   "source": [
    "model = ConvLSTM(n_features = 1 , n_hidden = 64, seq_len = max_seq_len, n_layers = 2,device=device)\n",
    "model = nn.DataParallel(model, device_ids=[0,1,2])\n"
   ]
  },
  {
   "cell_type": "code",
   "execution_count": 96,
   "id": "a5a3a0c7",
   "metadata": {
    "colab": {
     "base_uri": "https://localhost:8080/"
    },
    "executionInfo": {
     "elapsed": 843,
     "status": "ok",
     "timestamp": 1681139980530,
     "user": {
      "displayName": "Kiệt Cáp Đặng Xuân",
      "userId": "08334112914151232628"
     },
     "user_tz": -480
    },
    "id": "a5a3a0c7",
    "outputId": "f062d653-8ba8-4f24-b919-9c5e71c28661"
   },
   "outputs": [
    {
     "data": {
      "text/plain": [
       "DataParallel(\n",
       "  (module): ConvLSTM(\n",
       "    (c1): Conv1d(1, 1, kernel_size=(3,), stride=(1,))\n",
       "    (pool): MaxPool1d(kernel_size=3, stride=1, padding=0, dilation=1, ceil_mode=False)\n",
       "    (lstm): LSTM(30479, 64, num_layers=2)\n",
       "    (linear1): Linear(in_features=64, out_features=64, bias=True)\n",
       "    (linear2): Linear(in_features=64, out_features=6, bias=True)\n",
       "  )\n",
       ")"
      ]
     },
     "execution_count": 96,
     "metadata": {},
     "output_type": "execute_result"
    }
   ],
   "source": [
    "model.to(device)"
   ]
  },
  {
   "cell_type": "code",
   "execution_count": 21,
   "id": "7e5aca18",
   "metadata": {
    "executionInfo": {
     "elapsed": 2,
     "status": "ok",
     "timestamp": 1681139982152,
     "user": {
      "displayName": "Kiệt Cáp Đặng Xuân",
      "userId": "08334112914151232628"
     },
     "user_tz": -480
    },
    "id": "7e5aca18"
   },
   "outputs": [],
   "source": [
    "learning_rate = 0.00001\n",
    "num_epochs = 10\n",
    "criterion = nn.CrossEntropyLoss().to(device)\n",
    "optimizer = torch.optim.Adam(model.parameters(), lr=learning_rate)"
   ]
  },
  {
   "cell_type": "code",
   "execution_count": 104,
   "id": "91d7c735",
   "metadata": {
    "executionInfo": {
     "elapsed": 2,
     "status": "ok",
     "timestamp": 1681140019592,
     "user": {
      "displayName": "Kiệt Cáp Đặng Xuân",
      "userId": "08334112914151232628"
     },
     "user_tz": -480
    },
    "id": "91d7c735"
   },
   "outputs": [],
   "source": [
    "def train_epoch(model, dataloader, criterion, optimizer, val_loader = None):\n",
    "    model.train()\n",
    "    running_loss = 0.0\n",
    "    correct_predictions = 0\n",
    "    total_predictions = 0\n",
    "    \n",
    "    val_running_loss = 0.0\n",
    "    val_correct_predictions = 0\n",
    "    val_total_predictions = 0\n",
    "    for inputs, targets in tqdm.tqdm(dataloader):\n",
    "        # Move tensors to the correct device\n",
    "        inputs = inputs.to(device)\n",
    "        targets = targets.type(torch.LongTensor).to(device)\n",
    "        optimizer.zero_grad()\n",
    "\n",
    "        # Forward pass\n",
    "        outputs = model(inputs)\n",
    "        # print(outputs.squeeze().shape)\n",
    "#         print(outputs.dtype)\n",
    "#         print(targets.dtype)\n",
    "        loss = criterion(outputs, targets)\n",
    "\n",
    "        # Backward pass\n",
    "        loss.backward()\n",
    "        optimizer.step()\n",
    "\n",
    "        running_loss += loss.item()\n",
    "#         if idx % 200 == 0:\n",
    "#             print(f\"batch [{idx + 1}/{len(dataloader)}], outputs: {ouputs}\")\n",
    "        #Calculate the number of correct predictions\n",
    "        predicted = torch.argmax(outputs, -1)\n",
    "        correct_predictions += (predicted == targets).sum().item()\n",
    "        total_predictions += targets.size(0)\n",
    "        \n",
    "    for inputs, targets in tqdm.tqdm(val_loader):\n",
    "        # Move tensors to the correct device\n",
    "        inputs = inputs.to(device)\n",
    "        targets = targets.type(torch.LongTensor).to(device)\n",
    "\n",
    "        # Forward pass\n",
    "        outputs = model(inputs)\n",
    "        \n",
    "        loss = criterion(outputs.squeeze(), targets)\n",
    "\n",
    "    \n",
    "        val_running_loss += loss.item()\n",
    "        predicted = torch.argmax(outputs, -1)\n",
    "\n",
    "        val_correct_predictions += (predicted == targets).sum().item()\n",
    "        val_total_predictions += targets.size(0) \n",
    "        \n",
    "    average_loss = running_loss / len(dataloader)\n",
    "    accuracy = correct_predictions / total_predictions\n",
    "    val_average_loss = val_running_loss / len(val_loader)\n",
    "    val_accuracy = val_correct_predictions / val_total_predictions\n",
    "    return average_loss, accuracy, val_average_loss, val_accuracy"
   ]
  },
  {
   "cell_type": "code",
   "execution_count": 105,
   "id": "fab630eb",
   "metadata": {
    "colab": {
     "base_uri": "https://localhost:8080/",
     "height": 415
    },
    "executionInfo": {
     "elapsed": 299,
     "status": "error",
     "timestamp": 1681140020920,
     "user": {
      "displayName": "Kiệt Cáp Đặng Xuân",
      "userId": "08334112914151232628"
     },
     "user_tz": -480
    },
    "id": "fab630eb",
    "outputId": "904a61a3-e086-493c-86ed-4f42029c78da"
   },
   "outputs": [
    {
     "name": "stderr",
     "output_type": "stream",
     "text": [
      "100%|██████████████████████████████████████████████████████████████████████████████████████████████████████████████████████████████████████████████| 450/450 [00:12<00:00, 35.92it/s]\n",
      "100%|████████████████████████████████████████████████████████████████████████████████████████████████████████████████████████████████████████████████| 57/57 [00:01<00:00, 52.94it/s]\n"
     ]
    },
    {
     "name": "stdout",
     "output_type": "stream",
     "text": [
      "{'acc': [0.15965277777777778], 'val_acc': [0.1622222222222222], 'loss': [1.7932092356681824], 'val_loss': [1.7933156239359003]}\n",
      "Epoch [1/10], Loss: 1.7932, Accuracy: 0.1597\n"
     ]
    },
    {
     "name": "stderr",
     "output_type": "stream",
     "text": [
      "100%|██████████████████████████████████████████████████████████████████████████████████████████████████████████████████████████████████████████████| 450/450 [00:12<00:00, 35.98it/s]\n",
      "100%|████████████████████████████████████████████████████████████████████████████████████████████████████████████████████████████████████████████████| 57/57 [00:01<00:00, 53.84it/s]\n"
     ]
    },
    {
     "name": "stdout",
     "output_type": "stream",
     "text": [
      "{'acc': [0.15965277777777778, 0.15527777777777776], 'val_acc': [0.1622222222222222, 0.15611111111111112], 'loss': [1.7932092356681824, 1.7934254471460978], 'val_loss': [1.7933156239359003, 1.7931947248023854]}\n",
      "Epoch [2/10], Loss: 1.7934, Accuracy: 0.1553\n"
     ]
    },
    {
     "name": "stderr",
     "output_type": "stream",
     "text": [
      "100%|██████████████████████████████████████████████████████████████████████████████████████████████████████████████████████████████████████████████| 450/450 [00:12<00:00, 36.06it/s]\n",
      "100%|████████████████████████████████████████████████████████████████████████████████████████████████████████████████████████████████████████████████| 57/57 [00:01<00:00, 53.35it/s]\n"
     ]
    },
    {
     "name": "stdout",
     "output_type": "stream",
     "text": [
      "{'acc': [0.15965277777777778, 0.15527777777777776, 0.15833333333333333], 'val_acc': [0.1622222222222222, 0.15611111111111112, 0.16722222222222222], 'loss': [1.7932092356681824, 1.7934254471460978, 1.7932910238371955], 'val_loss': [1.7933156239359003, 1.7931947248023854, 1.7930588931368108]}\n",
      "Epoch [3/10], Loss: 1.7933, Accuracy: 0.1583\n"
     ]
    },
    {
     "name": "stderr",
     "output_type": "stream",
     "text": [
      "100%|██████████████████████████████████████████████████████████████████████████████████████████████████████████████████████████████████████████████| 450/450 [00:12<00:00, 36.21it/s]\n",
      "100%|████████████████████████████████████████████████████████████████████████████████████████████████████████████████████████████████████████████████| 57/57 [00:01<00:00, 54.06it/s]\n"
     ]
    },
    {
     "name": "stdout",
     "output_type": "stream",
     "text": [
      "{'acc': [0.15965277777777778, 0.15527777777777776, 0.15833333333333333, 0.15590277777777778], 'val_acc': [0.1622222222222222, 0.15611111111111112, 0.16722222222222222, 0.15944444444444444], 'loss': [1.7932092356681824, 1.7934254471460978, 1.7932910238371955, 1.7933145252863567], 'val_loss': [1.7933156239359003, 1.7931947248023854, 1.7930588931368108, 1.7936348789616634]}\n",
      "Epoch [4/10], Loss: 1.7933, Accuracy: 0.1559\n"
     ]
    },
    {
     "name": "stderr",
     "output_type": "stream",
     "text": [
      "100%|██████████████████████████████████████████████████████████████████████████████████████████████████████████████████████████████████████████████| 450/450 [00:12<00:00, 35.62it/s]\n",
      "100%|████████████████████████████████████████████████████████████████████████████████████████████████████████████████████████████████████████████████| 57/57 [00:01<00:00, 53.47it/s]\n"
     ]
    },
    {
     "name": "stdout",
     "output_type": "stream",
     "text": [
      "{'acc': [0.15965277777777778, 0.15527777777777776, 0.15833333333333333, 0.15590277777777778, 0.15916666666666668], 'val_acc': [0.1622222222222222, 0.15611111111111112, 0.16722222222222222, 0.15944444444444444, 0.15722222222222224], 'loss': [1.7932092356681824, 1.7934254471460978, 1.7932910238371955, 1.7933145252863567, 1.7932477378845215], 'val_loss': [1.7933156239359003, 1.7931947248023854, 1.7930588931368108, 1.7936348789616634, 1.7932150259352566]}\n",
      "Epoch [5/10], Loss: 1.7932, Accuracy: 0.1592\n"
     ]
    },
    {
     "name": "stderr",
     "output_type": "stream",
     "text": [
      "100%|██████████████████████████████████████████████████████████████████████████████████████████████████████████████████████████████████████████████| 450/450 [00:12<00:00, 35.93it/s]\n",
      "100%|████████████████████████████████████████████████████████████████████████████████████████████████████████████████████████████████████████████████| 57/57 [00:01<00:00, 53.44it/s]\n"
     ]
    },
    {
     "name": "stdout",
     "output_type": "stream",
     "text": [
      "{'acc': [0.15965277777777778, 0.15527777777777776, 0.15833333333333333, 0.15590277777777778, 0.15916666666666668, 0.1579861111111111], 'val_acc': [0.1622222222222222, 0.15611111111111112, 0.16722222222222222, 0.15944444444444444, 0.15722222222222224, 0.16333333333333333], 'loss': [1.7932092356681824, 1.7934254471460978, 1.7932910238371955, 1.7933145252863567, 1.7932477378845215, 1.7932729069391886], 'val_loss': [1.7933156239359003, 1.7931947248023854, 1.7930588931368108, 1.7936348789616634, 1.7932150259352566, 1.7933617934846042]}\n",
      "Epoch [6/10], Loss: 1.7933, Accuracy: 0.1580\n"
     ]
    },
    {
     "name": "stderr",
     "output_type": "stream",
     "text": [
      "100%|██████████████████████████████████████████████████████████████████████████████████████████████████████████████████████████████████████████████| 450/450 [00:12<00:00, 35.94it/s]\n",
      "100%|████████████████████████████████████████████████████████████████████████████████████████████████████████████████████████████████████████████████| 57/57 [00:01<00:00, 53.73it/s]\n"
     ]
    },
    {
     "name": "stdout",
     "output_type": "stream",
     "text": [
      "{'acc': [0.15965277777777778, 0.15527777777777776, 0.15833333333333333, 0.15590277777777778, 0.15916666666666668, 0.1579861111111111, 0.15368055555555554], 'val_acc': [0.1622222222222222, 0.15611111111111112, 0.16722222222222222, 0.15944444444444444, 0.15722222222222224, 0.16333333333333333, 0.15388888888888888], 'loss': [1.7932092356681824, 1.7934254471460978, 1.7932910238371955, 1.7933145252863567, 1.7932477378845215, 1.7932729069391886, 1.7933854148122998], 'val_loss': [1.7933156239359003, 1.7931947248023854, 1.7930588931368108, 1.7936348789616634, 1.7932150259352566, 1.7933617934846042, 1.7932643576672203]}\n",
      "Epoch [7/10], Loss: 1.7934, Accuracy: 0.1537\n"
     ]
    },
    {
     "name": "stderr",
     "output_type": "stream",
     "text": [
      "100%|██████████████████████████████████████████████████████████████████████████████████████████████████████████████████████████████████████████████| 450/450 [00:12<00:00, 36.09it/s]\n",
      "100%|████████████████████████████████████████████████████████████████████████████████████████████████████████████████████████████████████████████████| 57/57 [00:01<00:00, 53.81it/s]\n"
     ]
    },
    {
     "name": "stdout",
     "output_type": "stream",
     "text": [
      "{'acc': [0.15965277777777778, 0.15527777777777776, 0.15833333333333333, 0.15590277777777778, 0.15916666666666668, 0.1579861111111111, 0.15368055555555554, 0.16020833333333334], 'val_acc': [0.1622222222222222, 0.15611111111111112, 0.16722222222222222, 0.15944444444444444, 0.15722222222222224, 0.16333333333333333, 0.15388888888888888, 0.15333333333333332], 'loss': [1.7932092356681824, 1.7934254471460978, 1.7932910238371955, 1.7933145252863567, 1.7932477378845215, 1.7932729069391886, 1.7933854148122998, 1.7932749263445535], 'val_loss': [1.7933156239359003, 1.7931947248023854, 1.7930588931368108, 1.7936348789616634, 1.7932150259352566, 1.7933617934846042, 1.7932643576672203, 1.793335803768091]}\n",
      "Epoch [8/10], Loss: 1.7933, Accuracy: 0.1602\n"
     ]
    },
    {
     "name": "stderr",
     "output_type": "stream",
     "text": [
      "100%|██████████████████████████████████████████████████████████████████████████████████████████████████████████████████████████████████████████████| 450/450 [00:12<00:00, 35.92it/s]\n",
      "100%|████████████████████████████████████████████████████████████████████████████████████████████████████████████████████████████████████████████████| 57/57 [00:01<00:00, 53.41it/s]\n"
     ]
    },
    {
     "name": "stdout",
     "output_type": "stream",
     "text": [
      "{'acc': [0.15965277777777778, 0.15527777777777776, 0.15833333333333333, 0.15590277777777778, 0.15916666666666668, 0.1579861111111111, 0.15368055555555554, 0.16020833333333334, 0.15444444444444444], 'val_acc': [0.1622222222222222, 0.15611111111111112, 0.16722222222222222, 0.15944444444444444, 0.15722222222222224, 0.16333333333333333, 0.15388888888888888, 0.15333333333333332, 0.1661111111111111], 'loss': [1.7932092356681824, 1.7934254471460978, 1.7932910238371955, 1.7933145252863567, 1.7932477378845215, 1.7932729069391886, 1.7933854148122998, 1.7932749263445535, 1.7934537792205811], 'val_loss': [1.7933156239359003, 1.7931947248023854, 1.7930588931368108, 1.7936348789616634, 1.7932150259352566, 1.7933617934846042, 1.7932643576672203, 1.793335803768091, 1.7932796561927127]}\n",
      "Epoch [9/10], Loss: 1.7935, Accuracy: 0.1544\n"
     ]
    },
    {
     "name": "stderr",
     "output_type": "stream",
     "text": [
      "100%|██████████████████████████████████████████████████████████████████████████████████████████████████████████████████████████████████████████████| 450/450 [00:12<00:00, 35.93it/s]\n",
      "100%|████████████████████████████████████████████████████████████████████████████████████████████████████████████████████████████████████████████████| 57/57 [00:01<00:00, 53.94it/s]"
     ]
    },
    {
     "name": "stdout",
     "output_type": "stream",
     "text": [
      "{'acc': [0.15965277777777778, 0.15527777777777776, 0.15833333333333333, 0.15590277777777778, 0.15916666666666668, 0.1579861111111111, 0.15368055555555554, 0.16020833333333334, 0.15444444444444444, 0.15625], 'val_acc': [0.1622222222222222, 0.15611111111111112, 0.16722222222222222, 0.15944444444444444, 0.15722222222222224, 0.16333333333333333, 0.15388888888888888, 0.15333333333333332, 0.1661111111111111, 0.16666666666666666], 'loss': [1.7932092356681824, 1.7934254471460978, 1.7932910238371955, 1.7933145252863567, 1.7932477378845215, 1.7932729069391886, 1.7933854148122998, 1.7932749263445535, 1.7934537792205811, 1.793329763677385], 'val_loss': [1.7933156239359003, 1.7931947248023854, 1.7930588931368108, 1.7936348789616634, 1.7932150259352566, 1.7933617934846042, 1.7932643576672203, 1.793335803768091, 1.7932796561927127, 1.793527647068626]}\n",
      "Epoch [10/10], Loss: 1.7933, Accuracy: 0.1562\n"
     ]
    },
    {
     "name": "stderr",
     "output_type": "stream",
     "text": [
      "\n"
     ]
    }
   ],
   "source": [
    "history = {\n",
    "    'acc':[],\n",
    "    'val_acc':[],\n",
    "    'loss' : [],\n",
    "    'val_loss': []\n",
    "}\n",
    "for epoch in range(num_epochs):\n",
    "    train_loss, train_accuracy,val_loss,val_accuracy = train_epoch(model, train_loader, criterion, optimizer,val_loader)\n",
    "    history['acc'].append(train_accuracy)\n",
    "    history['val_acc'].append(val_accuracy)\n",
    "    history['loss'].append(train_loss)\n",
    "    history['val_loss'].append(val_loss)\n",
    "    \n",
    "    print(history)\n",
    "    print(f\"Epoch [{epoch + 1}/{num_epochs}], Loss: {train_loss:.4f}, Accuracy: {train_accuracy:.4f}\")"
   ]
  },
  {
   "cell_type": "code",
   "execution_count": null,
   "id": "ad4fb1ff",
   "metadata": {},
   "outputs": [],
   "source": [
    "def evaluate(model, dataloader):\n",
    "    model.train()\n",
    "    correct_predictions = 0\n",
    "    total_predictions = 0\n",
    "    for inputs, targets in tqdm.tqdm(dataloader):\n",
    "        # Move tensors to the correct device\n",
    "        idx += 1\n",
    "        inputs = inputs.to(device)\n",
    "        targets = targets.type(torch.LongTensor).to(device)\n",
    "\n",
    "        # Forward pass\n",
    "        outputs = model(inputs)\n",
    "\n",
    "\n",
    "        _, predicted = torch.max(outputs, 1)\n",
    "        correct_predictions += (predicted == targets).sum().item()\n",
    "        total_predictions += targets.size(0)\n",
    "\n",
    "    accuracy = correct_predictions / total_predictions\n",
    "    \n",
    "    return average_loss, accuracy"
   ]
  }
 ],
 "metadata": {
  "accelerator": "GPU",
  "colab": {
   "provenance": []
  },
  "gpuClass": "standard",
  "kernelspec": {
   "display_name": "Python 3 (ipykernel)",
   "language": "python",
   "name": "python3"
  },
  "language_info": {
   "codemirror_mode": {
    "name": "ipython",
    "version": 3
   },
   "file_extension": ".py",
   "mimetype": "text/x-python",
   "name": "python",
   "nbconvert_exporter": "python",
   "pygments_lexer": "ipython3",
   "version": "3.10.9"
  }
 },
 "nbformat": 4,
 "nbformat_minor": 5
}
