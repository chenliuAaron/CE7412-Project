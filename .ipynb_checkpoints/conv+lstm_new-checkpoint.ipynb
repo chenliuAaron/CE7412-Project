{
 "cells": [
  {
   "cell_type": "code",
   "execution_count": 1,
   "id": "a8539e92",
   "metadata": {},
   "outputs": [
    {
     "ename": "ModuleNotFoundError",
     "evalue": "No module named 'tensorflow'",
     "output_type": "error",
     "traceback": [
      "\u001b[1;31m---------------------------------------------------------------------------\u001b[0m",
      "\u001b[1;31mModuleNotFoundError\u001b[0m                       Traceback (most recent call last)",
      "Cell \u001b[1;32mIn[1], line 4\u001b[0m\n\u001b[0;32m      2\u001b[0m \u001b[38;5;28;01mimport\u001b[39;00m \u001b[38;5;21;01mpickle\u001b[39;00m\n\u001b[0;32m      3\u001b[0m \u001b[38;5;28;01mimport\u001b[39;00m \u001b[38;5;21;01mnumpy\u001b[39;00m \u001b[38;5;28;01mas\u001b[39;00m \u001b[38;5;21;01mnp\u001b[39;00m\n\u001b[1;32m----> 4\u001b[0m \u001b[38;5;28;01mimport\u001b[39;00m \u001b[38;5;21;01mtensorflow\u001b[39;00m \u001b[38;5;28;01mas\u001b[39;00m \u001b[38;5;21;01mtf\u001b[39;00m\n\u001b[0;32m      5\u001b[0m \u001b[38;5;28;01mfrom\u001b[39;00m \u001b[38;5;21;01mtensorflow\u001b[39;00m\u001b[38;5;21;01m.\u001b[39;00m\u001b[38;5;21;01mkeras\u001b[39;00m\u001b[38;5;21;01m.\u001b[39;00m\u001b[38;5;21;01mmodels\u001b[39;00m \u001b[38;5;28;01mimport\u001b[39;00m Sequential\n\u001b[0;32m      6\u001b[0m \u001b[38;5;28;01mfrom\u001b[39;00m \u001b[38;5;21;01mtensorflow\u001b[39;00m\u001b[38;5;21;01m.\u001b[39;00m\u001b[38;5;21;01mkeras\u001b[39;00m\u001b[38;5;21;01m.\u001b[39;00m\u001b[38;5;21;01mlayers\u001b[39;00m \u001b[38;5;28;01mimport\u001b[39;00m ConvLSTM2D, BatchNormalization, Dense, TimeDistributed, Flatten,Conv2D\n",
      "\u001b[1;31mModuleNotFoundError\u001b[0m: No module named 'tensorflow'"
     ]
    }
   ],
   "source": [
    "import zipfile\n",
    "import pickle\n",
    "import numpy as np\n",
    "import tensorflow as tf\n",
    "from tensorflow.keras.models import Sequential\n",
    "from tensorflow.keras.layers import ConvLSTM2D, BatchNormalization, Dense, TimeDistributed, Flatten,Conv2D\n",
    "from tensorflow.keras.utils import to_categorical\n",
    "from sklearn.model_selection import train_test_split\n",
    "from sklearn.metrics import confusion_matrix, roc_auc_score, roc_curve, classification_report, accuracy_score\n",
    "import matplotlib.pyplot as plt"
   ]
  },
  {
   "cell_type": "code",
   "execution_count": 43,
   "id": "2f0ba21e",
   "metadata": {},
   "outputs": [],
   "source": [
    "import os\n",
    "from tensorflow.keras.optimizers import Adam\n",
    "from tensorflow.keras.callbacks import EarlyStopping\n",
    "from keras.layers import Flatten\n",
    "from sklearn.metrics import accuracy_score, precision_score, recall_score, f1_score, confusion_matrix, roc_auc_score, classification_report"
   ]
  },
  {
   "cell_type": "code",
   "execution_count": 4,
   "id": "bd7a4af5",
   "metadata": {},
   "outputs": [
    {
     "name": "stdout",
     "output_type": "stream",
     "text": [
      "The file Dengue-4-sequences has 3587 sequences.\n",
      "The file Ebola-sequences has 4001 sequences.\n",
      "The file hepatitis-C-3a-sequences has 3331 sequences.\n",
      "The file influenza-A-sequences has 3669 sequences.\n",
      "The file mers-sequences has 1633 sequences.\n",
      "The file SARS-CoV-2-sequences has 4752 sequences.\n"
     ]
    }
   ],
   "source": [
    "# def k_mer_enc(filename: str, k: int):\n",
    "#     with open(os.path.join('data/OneDrive-2023-04-11',filename + '.fasta'), 'r') as file:\n",
    "#         seqs = []\n",
    "#         seq = \"\"\n",
    "#         for line in file.readlines():\n",
    "#             if line.startswith('>'):\n",
    "#                 if len(seq) > 0:\n",
    "#                     seqs.append(seq)\n",
    "#                     seq = \"\"\n",
    "#             else:\n",
    "#                 seq += line.strip('\\n')\n",
    "#         if len(seq) > 0:\n",
    "#             seqs.append(seq)\n",
    "\n",
    "#         print(f'The file {filename} has {len(seqs)} sequences.')\n",
    "\n",
    "#         encodings = []\n",
    "#         for seq in seqs:\n",
    "#             encoding = []\n",
    "#             code = 0\n",
    "#             for c in seq:\n",
    "#                 code *= 4\n",
    "#                 if c == 'A':\n",
    "#                     code += 0\n",
    "#                 if c == 'C':\n",
    "#                     code += 1\n",
    "#                 if c == 'G':\n",
    "#                     code += 2\n",
    "#                 if c == 'T':\n",
    "#                     code += 3\n",
    "#                 code %= 4 ** k\n",
    "#                 encoding.append(code)\n",
    "#             assert len(seq) == len(encoding), 'Error: Unmatched number of characters!'\n",
    "#             encodings.append(encoding)\n",
    "#         assert len(seqs) == len(encodings), 'Error: Unmatched number of sequences!'\n",
    "\n",
    "#         with open(filename + '.pkl', 'wb') as pkfile:\n",
    "#             pickle.dump(encodings, pkfile)\n",
    "\n",
    "filenames = ['Dengue-4-sequences', 'Ebola-sequences', 'hepatitis-C-3a-sequences',\n",
    "             'influenza-A-sequences', 'mers-sequences', 'SARS-CoV-2-sequences']\n",
    "# for filename in filenames:\n",
    "#     k_mer_enc(filename, 4)"
   ]
  },
  {
   "cell_type": "code",
   "execution_count": 5,
   "id": "cf8b8d99",
   "metadata": {},
   "outputs": [],
   "source": [
    "data = []\n",
    "labels = []\n",
    "for i, filename in enumerate(filenames):\n",
    "    with open(filename + '.pkl', 'rb') as pkfile:\n",
    "        encodings = pickle.load(pkfile)\n",
    "        data.extend(encodings)\n",
    "        labels.extend([i] * len(encodings))"
   ]
  },
  {
   "cell_type": "code",
   "execution_count": 6,
   "id": "8a5dba20",
   "metadata": {},
   "outputs": [],
   "source": [
    "max_seq_length = max([len(seq) for seq in data])\n",
    "padded_data = tf.keras.preprocessing.sequence.pad_sequences(data, maxlen=max_seq_length, padding='post')"
   ]
  },
  {
   "cell_type": "code",
   "execution_count": 7,
   "id": "188bfbe2",
   "metadata": {},
   "outputs": [],
   "source": [
    "X_train, X_test, y_train, y_test = train_test_split(padded_data, labels, test_size=0.2, stratify=labels, random_state=42)\n",
    "y_train_cat = to_categorical(y_train)\n",
    "y_test_cat = to_categorical(y_test)"
   ]
  },
  {
   "cell_type": "code",
   "execution_count": 27,
   "id": "7e4326c4",
   "metadata": {},
   "outputs": [],
   "source": [
    "X_train_reshaped = X_train.reshape(X_train.shape[0],1, X_train.shape[1]).astype(float)\n",
    "X_test_reshaped = X_test.reshape(X_test.shape[0],1, X_test.shape[1]).astype(float)"
   ]
  },
  {
   "cell_type": "code",
   "execution_count": 33,
   "id": "4d55983d",
   "metadata": {},
   "outputs": [],
   "source": [
    "model = Sequential([\n",
    "    tf.keras.layers.Conv1D(filters=64,kernel_size=3, activation='relu', padding='same'),\n",
    "    BatchNormalization(),\n",
    "    tf.keras.layers.LSTM(32, return_sequences=True),\n",
    "    BatchNormalization(),\n",
    "\n",
    "    # TimeDistributed Flatten layer\n",
    "    TimeDistributed(Flatten()),\n",
    "\n",
    "    # Dense layer\n",
    "    Dense(128, activation='relu'),\n",
    "    Flatten(),  # r\n",
    "    # Output layer\n",
    "    Dense(num_classes, activation='softmax')\n",
    "])\n",
    "\n",
    "# Create an Adam optimizer with the specified learning rate\n",
    "optimizer = Adam(learning_rate=learning_rate)\n",
    "\n",
    "model.compile(optimizer=optimizer, loss='categorical_crossentropy', metrics=['accuracy'])\n",
    "early_stop = EarlyStopping(\n",
    "    monitor='val_loss',  \n",
    "    patience=4,  \n",
    "    verbose=1,  \n",
    "    restore_best_weights=True,  \n",
    ")"
   ]
  },
  {
   "cell_type": "code",
   "execution_count": 29,
   "id": "27cab2b6",
   "metadata": {},
   "outputs": [],
   "source": [
    "learning_rate = 0.00001 \n",
    "input_shape = (X_train_reshaped.shape[0],X_train_reshaped.shape[1])\n",
    "num_classes = np.unique(y_train).shape[0]\n",
    "# convlstm_model = create_convlstm_model(input_shape, num_classes, learning_rate)\n",
    "history = model.fit(X_train_reshaped, y_train_cat, epochs=20, batch_size=32, validation_split=0.2,callbacks=[early_stop])"
   ]
  },
  {
   "cell_type": "code",
   "execution_count": 34,
   "id": "7edc81a8",
   "metadata": {},
   "outputs": [
    {
     "name": "stdout",
     "output_type": "stream",
     "text": [
      "Epoch 1/20\n"
     ]
    },
    {
     "name": "stderr",
     "output_type": "stream",
     "text": [
      "2023-04-11 15:41:27.979412: W tensorflow/tsl/framework/cpu_allocator_impl.cc:83] Allocation of 1636624992 exceeds 10% of free system memory.\n",
      "2023-04-11 15:41:30.821390: I tensorflow/core/common_runtime/executor.cc:1197] [/device:CPU:0] (DEBUG INFO) Executor start aborting (this does not indicate an error and you can ignore this message): INVALID_ARGUMENT: You must feed a value for placeholder tensor 'gradients/split_2_grad/concat/split_2/split_dim' with dtype int32\n",
      "\t [[{{node gradients/split_2_grad/concat/split_2/split_dim}}]]\n",
      "2023-04-11 15:41:30.823113: I tensorflow/core/common_runtime/executor.cc:1197] [/device:CPU:0] (DEBUG INFO) Executor start aborting (this does not indicate an error and you can ignore this message): INVALID_ARGUMENT: You must feed a value for placeholder tensor 'gradients/split_grad/concat/split/split_dim' with dtype int32\n",
      "\t [[{{node gradients/split_grad/concat/split/split_dim}}]]\n",
      "2023-04-11 15:41:30.824444: I tensorflow/core/common_runtime/executor.cc:1197] [/device:CPU:0] (DEBUG INFO) Executor start aborting (this does not indicate an error and you can ignore this message): INVALID_ARGUMENT: You must feed a value for placeholder tensor 'gradients/split_1_grad/concat/split_1/split_dim' with dtype int32\n",
      "\t [[{{node gradients/split_1_grad/concat/split_1/split_dim}}]]\n",
      "2023-04-11 15:41:31.111841: I tensorflow/core/common_runtime/executor.cc:1197] [/device:CPU:0] (DEBUG INFO) Executor start aborting (this does not indicate an error and you can ignore this message): INVALID_ARGUMENT: You must feed a value for placeholder tensor 'gradients/split_2_grad/concat/split_2/split_dim' with dtype int32\n",
      "\t [[{{node gradients/split_2_grad/concat/split_2/split_dim}}]]\n",
      "2023-04-11 15:41:31.113286: I tensorflow/core/common_runtime/executor.cc:1197] [/device:CPU:0] (DEBUG INFO) Executor start aborting (this does not indicate an error and you can ignore this message): INVALID_ARGUMENT: You must feed a value for placeholder tensor 'gradients/split_grad/concat/split/split_dim' with dtype int32\n",
      "\t [[{{node gradients/split_grad/concat/split/split_dim}}]]\n",
      "2023-04-11 15:41:31.114776: I tensorflow/core/common_runtime/executor.cc:1197] [/device:CPU:0] (DEBUG INFO) Executor start aborting (this does not indicate an error and you can ignore this message): INVALID_ARGUMENT: You must feed a value for placeholder tensor 'gradients/split_1_grad/concat/split_1/split_dim' with dtype int32\n",
      "\t [[{{node gradients/split_1_grad/concat/split_1/split_dim}}]]\n",
      "2023-04-11 15:41:32.019123: I tensorflow/core/common_runtime/executor.cc:1197] [/device:CPU:0] (DEBUG INFO) Executor start aborting (this does not indicate an error and you can ignore this message): INVALID_ARGUMENT: You must feed a value for placeholder tensor 'gradients/split_2_grad/concat/split_2/split_dim' with dtype int32\n",
      "\t [[{{node gradients/split_2_grad/concat/split_2/split_dim}}]]\n",
      "2023-04-11 15:41:32.020960: I tensorflow/core/common_runtime/executor.cc:1197] [/device:CPU:0] (DEBUG INFO) Executor start aborting (this does not indicate an error and you can ignore this message): INVALID_ARGUMENT: You must feed a value for placeholder tensor 'gradients/split_grad/concat/split/split_dim' with dtype int32\n",
      "\t [[{{node gradients/split_grad/concat/split/split_dim}}]]\n",
      "2023-04-11 15:41:32.022223: I tensorflow/core/common_runtime/executor.cc:1197] [/device:CPU:0] (DEBUG INFO) Executor start aborting (this does not indicate an error and you can ignore this message): INVALID_ARGUMENT: You must feed a value for placeholder tensor 'gradients/split_1_grad/concat/split_1/split_dim' with dtype int32\n",
      "\t [[{{node gradients/split_1_grad/concat/split_1/split_dim}}]]\n"
     ]
    },
    {
     "name": "stdout",
     "output_type": "stream",
     "text": [
      "420/420 [==============================] - ETA: 0s - loss: 0.8159 - accuracy: 0.8470"
     ]
    },
    {
     "name": "stderr",
     "output_type": "stream",
     "text": [
      "2023-04-11 15:42:05.334947: I tensorflow/core/common_runtime/executor.cc:1197] [/device:CPU:0] (DEBUG INFO) Executor start aborting (this does not indicate an error and you can ignore this message): INVALID_ARGUMENT: You must feed a value for placeholder tensor 'gradients/split_2_grad/concat/split_2/split_dim' with dtype int32\n",
      "\t [[{{node gradients/split_2_grad/concat/split_2/split_dim}}]]\n",
      "2023-04-11 15:42:05.336450: I tensorflow/core/common_runtime/executor.cc:1197] [/device:CPU:0] (DEBUG INFO) Executor start aborting (this does not indicate an error and you can ignore this message): INVALID_ARGUMENT: You must feed a value for placeholder tensor 'gradients/split_grad/concat/split/split_dim' with dtype int32\n",
      "\t [[{{node gradients/split_grad/concat/split/split_dim}}]]\n",
      "2023-04-11 15:42:05.337661: I tensorflow/core/common_runtime/executor.cc:1197] [/device:CPU:0] (DEBUG INFO) Executor start aborting (this does not indicate an error and you can ignore this message): INVALID_ARGUMENT: You must feed a value for placeholder tensor 'gradients/split_1_grad/concat/split_1/split_dim' with dtype int32\n",
      "\t [[{{node gradients/split_1_grad/concat/split_1/split_dim}}]]\n"
     ]
    },
    {
     "name": "stdout",
     "output_type": "stream",
     "text": [
      "420/420 [==============================] - 37s 78ms/step - loss: 0.8159 - accuracy: 0.8470 - val_loss: 0.6831 - val_accuracy: 0.9312\n",
      "Epoch 2/20\n",
      "420/420 [==============================] - 32s 76ms/step - loss: 0.4785 - accuracy: 0.9328 - val_loss: 0.3701 - val_accuracy: 0.9428\n",
      "Epoch 3/20\n",
      "420/420 [==============================] - 32s 76ms/step - loss: 0.3601 - accuracy: 0.9468 - val_loss: 0.2870 - val_accuracy: 0.9517\n",
      "Epoch 4/20\n",
      "420/420 [==============================] - 32s 77ms/step - loss: 0.2809 - accuracy: 0.9557 - val_loss: 0.2268 - val_accuracy: 0.9598\n",
      "Epoch 5/20\n",
      "420/420 [==============================] - 32s 75ms/step - loss: 0.2268 - accuracy: 0.9658 - val_loss: 0.1992 - val_accuracy: 0.9633\n",
      "Epoch 6/20\n",
      "420/420 [==============================] - 32s 76ms/step - loss: 0.1847 - accuracy: 0.9707 - val_loss: 0.1585 - val_accuracy: 0.9633\n",
      "Epoch 7/20\n",
      "420/420 [==============================] - 32s 76ms/step - loss: 0.1539 - accuracy: 0.9752 - val_loss: 0.1455 - val_accuracy: 0.9666\n",
      "Epoch 8/20\n",
      "420/420 [==============================] - 32s 77ms/step - loss: 0.1283 - accuracy: 0.9785 - val_loss: 0.1305 - val_accuracy: 0.9684\n",
      "Epoch 9/20\n",
      "420/420 [==============================] - 32s 77ms/step - loss: 0.1119 - accuracy: 0.9805 - val_loss: 0.1233 - val_accuracy: 0.9726\n",
      "Epoch 10/20\n",
      "420/420 [==============================] - 32s 76ms/step - loss: 0.0927 - accuracy: 0.9847 - val_loss: 0.1082 - val_accuracy: 0.9717\n",
      "Epoch 11/20\n",
      "420/420 [==============================] - 32s 76ms/step - loss: 0.0808 - accuracy: 0.9861 - val_loss: 0.1070 - val_accuracy: 0.9729\n",
      "Epoch 12/20\n",
      "420/420 [==============================] - 32s 77ms/step - loss: 0.0680 - accuracy: 0.9891 - val_loss: 0.0980 - val_accuracy: 0.9759\n",
      "Epoch 13/20\n",
      "420/420 [==============================] - 32s 76ms/step - loss: 0.0627 - accuracy: 0.9892 - val_loss: 0.0995 - val_accuracy: 0.9765\n",
      "Epoch 14/20\n",
      "420/420 [==============================] - 32s 76ms/step - loss: 0.0529 - accuracy: 0.9904 - val_loss: 0.0925 - val_accuracy: 0.9750\n",
      "Epoch 15/20\n",
      "420/420 [==============================] - 32s 75ms/step - loss: 0.0471 - accuracy: 0.9925 - val_loss: 0.0928 - val_accuracy: 0.9738\n",
      "Epoch 16/20\n",
      "420/420 [==============================] - 31s 75ms/step - loss: 0.0412 - accuracy: 0.9926 - val_loss: 0.0953 - val_accuracy: 0.9738\n",
      "Epoch 17/20\n",
      "420/420 [==============================] - 32s 75ms/step - loss: 0.0377 - accuracy: 0.9943 - val_loss: 0.0841 - val_accuracy: 0.9753\n",
      "Epoch 18/20\n",
      "420/420 [==============================] - 31s 75ms/step - loss: 0.0345 - accuracy: 0.9940 - val_loss: 0.0895 - val_accuracy: 0.9765\n",
      "Epoch 19/20\n",
      "420/420 [==============================] - 31s 74ms/step - loss: 0.0293 - accuracy: 0.9952 - val_loss: 0.0874 - val_accuracy: 0.9765\n",
      "Epoch 20/20\n",
      "420/420 [==============================] - 32s 76ms/step - loss: 0.0285 - accuracy: 0.9956 - val_loss: 0.0850 - val_accuracy: 0.9768\n"
     ]
    }
   ],
   "source": [
    "learning_rate = 0.00001  # Set your desired learning rate\n",
    "input_shape = (X_train_reshaped.shape[0],X_train_reshaped.shape[1])\n",
    "num_classes = np.unique(y_train).shape[0]\n",
    "convlstm_model = create_convlstm_model(input_shape, num_classes, learning_rate)\n",
    "history = convlstm_model.fit(X_train_reshaped, y_train_cat, epochs=20, batch_size=32, validation_split=0.2,callbacks=[early_stop])"
   ]
  },
  {
   "cell_type": "code",
   "execution_count": 35,
   "id": "62ae4cba",
   "metadata": {},
   "outputs": [],
   "source": [
    "convlstm_model.save('conv+lstm_model.h5')"
   ]
  },
  {
   "cell_type": "code",
   "execution_count": 36,
   "id": "319bd6e9",
   "metadata": {},
   "outputs": [
    {
     "name": "stdout",
     "output_type": "stream",
     "text": [
      "132/132 [==============================] - 1s 4ms/step - loss: 0.0834 - accuracy: 0.9776\n",
      "Test accuracy: 0.9775923490524292\n"
     ]
    }
   ],
   "source": [
    "test_loss, test_acc = convlstm_model.evaluate(X_test_reshaped, y_test_cat)\n",
    "print(f'Test accuracy: {test_acc}')"
   ]
  },
  {
   "cell_type": "code",
   "execution_count": 42,
   "id": "6541e253",
   "metadata": {},
   "outputs": [
    {
     "data": {
      "image/png": "[encoded data removed]",
      "text/plain": [
       "<Figure size 1200x400 with 2 Axes>"
      ]
     },
     "metadata": {},
     "output_type": "display_data"
    }
   ],
   "source": [
    "def plot_history(history):\n",
    "    plt.figure(figsize=(12, 4))\n",
    "#     plt.ylim(-0.04, 0.04)\n",
    "    plt.subplot(1, 2, 1)\n",
    "    plt.plot(history.history['accuracy'], label='Training accuracy')\n",
    "    plt.plot(history.history['val_accuracy'], label='Validation accuracy')\n",
    "    plt.legend()\n",
    "    plt.xlabel('Epochs')\n",
    "    plt.ylabel('Accuracy')\n",
    "    plt.title('Training and Validation Accuracy')\n",
    "\n",
    "    plt.subplot(1, 2, 2)\n",
    "    plt.plot(history.history['loss'], label='Training loss')\n",
    "    plt.plot(history.history['val_loss'], label='Validation loss')\n",
    "    plt.legend()\n",
    "    plt.xlabel('Epochs')\n",
    "    plt.ylabel('Loss')\n",
    "    plt.title('Training and Validation Loss')\n",
    "    plt.xticks([0, 4, 8, 12,16,20]) \n",
    "\n",
    "    plt.show()\n",
    "\n",
    "plot_history(history)"
   ]
  },
  {
   "cell_type": "code",
   "execution_count": 38,
   "id": "31de4d4d",
   "metadata": {},
   "outputs": [
    {
     "name": "stdout",
     "output_type": "stream",
     "text": [
      "\r",
      "  1/132 [..............................] - ETA: 53s"
     ]
    },
    {
     "name": "stderr",
     "output_type": "stream",
     "text": [
      "2023-04-11 15:52:14.144941: I tensorflow/core/common_runtime/executor.cc:1197] [/device:CPU:0] (DEBUG INFO) Executor start aborting (this does not indicate an error and you can ignore this message): INVALID_ARGUMENT: You must feed a value for placeholder tensor 'gradients/split_2_grad/concat/split_2/split_dim' with dtype int32\n",
      "\t [[{{node gradients/split_2_grad/concat/split_2/split_dim}}]]\n",
      "2023-04-11 15:52:14.146263: I tensorflow/core/common_runtime/executor.cc:1197] [/device:CPU:0] (DEBUG INFO) Executor start aborting (this does not indicate an error and you can ignore this message): INVALID_ARGUMENT: You must feed a value for placeholder tensor 'gradients/split_grad/concat/split/split_dim' with dtype int32\n",
      "\t [[{{node gradients/split_grad/concat/split/split_dim}}]]\n",
      "2023-04-11 15:52:14.147648: I tensorflow/core/common_runtime/executor.cc:1197] [/device:CPU:0] (DEBUG INFO) Executor start aborting (this does not indicate an error and you can ignore this message): INVALID_ARGUMENT: You must feed a value for placeholder tensor 'gradients/split_1_grad/concat/split_1/split_dim' with dtype int32\n",
      "\t [[{{node gradients/split_1_grad/concat/split_1/split_dim}}]]\n"
     ]
    },
    {
     "name": "stdout",
     "output_type": "stream",
     "text": [
      "132/132 [==============================] - 1s 4ms/step\n",
      "Confusion Matrix:\n",
      "[[696   5  11   2   3   0]\n",
      " [  6 782   4   2   6   0]\n",
      " [  4   1 659   0   2   0]\n",
      " [  5   0   1 719   9   0]\n",
      " [  5  10  11   4 296   1]\n",
      " [  0   0   0   0   2 949]]\n",
      "\n",
      "Classification Report:\n",
      "              precision    recall  f1-score   support\n",
      "\n",
      "           0       0.97      0.97      0.97       717\n",
      "           1       0.98      0.98      0.98       800\n",
      "           2       0.96      0.99      0.97       666\n",
      "           3       0.99      0.98      0.98       734\n",
      "           4       0.93      0.91      0.92       327\n",
      "           5       1.00      1.00      1.00       951\n",
      "\n",
      "    accuracy                           0.98      4195\n",
      "   macro avg       0.97      0.97      0.97      4195\n",
      "weighted avg       0.98      0.98      0.98      4195\n",
      "\n"
     ]
    }
   ],
   "source": [
    "y_pred = convlstm_model.predict(X_test_reshaped)\n",
    "y_pred_classes = np.argmax(y_pred, axis=1)\n",
    "\n",
    "print('Confusion Matrix:')\n",
    "print(confusion_matrix(y_test, y_pred_classes))\n",
    "print('\\nClassification Report:')\n",
    "print(classification_report(y_test, y_pred_classes))"
   ]
  },
  {
   "cell_type": "code",
   "execution_count": 44,
   "id": "391da098",
   "metadata": {},
   "outputs": [],
   "source": [
    "\n",
    "accuracy = accuracy_score(y_test, y_pred_classes)\n",
    "precision = precision_score(y_test, y_pred_classes, average=None)\n",
    "recall = recall_score(y_test, y_pred_classes, average=None)\n",
    "f1 = f1_score(y_test, y_pred_classes, average=None)\n",
    "conf_mat = confusion_matrix(y_test, y_pred_classes)\n",
    "\n",
    "# Calculate specificity (True Negative Rate) for each class\n",
    "specificity = []\n",
    "for i in range(num_classes):\n",
    "    tn = conf_mat[i, i]\n",
    "    fn = np.sum(conf_mat[:, i]) - tn\n",
    "    specificity.append(tn / (tn + fn))"
   ]
  },
  {
   "cell_type": "code",
   "execution_count": 48,
   "id": "ba91fc91",
   "metadata": {},
   "outputs": [
    {
     "name": "stdout",
     "output_type": "stream",
     "text": [
      "Model Information:\n",
      "\n",
      "Evaluation Metrics:\n",
      "Test Loss: 0.0834\n",
      "Test Acc: 0.9776\n",
      "Accuracy: 0.9776\n",
      "Precision:  [0.97206704 0.97994987 0.9606414  0.98899587 0.93081761 0.99894737]\n",
      "Recall:  [0.9707113  0.9775     0.98948949 0.97956403 0.90519878 0.99789695]\n",
      "Specificity:  [0.9720670391061452, 0.9799498746867168, 0.9606413994169096, 0.9889958734525447, 0.9308176100628931, 0.9989473684210526]\n",
      "F1-score:  [0.9713887  0.9787234  0.97485207 0.98425736 0.91782946 0.99842188]\n",
      "\n",
      "AUC Scores: [0.9981782280811925, 0.9975114138438881, 0.9995966496391546, 0.9997193326651903, 0.9910723603692495, 0.9999987034220582]\n"
     ]
    }
   ],
   "source": [
    "auc_scores = []\n",
    "y_test_array = np.array(y_test)  # Convert y_test to a NumPy array\n",
    "for i in range(num_classes):\n",
    "    binary_y_true = (y_test_array == i).astype(int)\n",
    "    binary_y_pred = y_pred[:, i]\n",
    "    auc = roc_auc_score(binary_y_true, binary_y_pred)\n",
    "    auc_scores.append(auc)\n",
    "\n",
    "print(\"Model Information:\")\n",
    "#print(f\"Embedding Dimension: {embedding_dim}\")\n",
    "#print(f\"Hidden Dimension: {hidden_dim}\")\n",
    "#print(f\"Output Dimension: {output_dim}\")\n",
    "#print(f\"No. of Layers: {num_layers}\")\n",
    "#print(f\"Dropout: {dropout}\")\n",
    "#print(f\"Optimizer: {optimizer}\")\n",
    "#print(f\"No. of Epochs: {num_epochs}\")\n",
    "#print(f\"Batch Size: {batch_size}\")\n",
    "#print(f\"Max Vocab Size: {max_vocab_size}\")\n",
    "print(\"\\nEvaluation Metrics:\")\n",
    "print(f\"Test Loss: {test_loss:.4f}\")\n",
    "print(f\"Test Acc: {test_acc:.4f}\")\n",
    "print(f\"Accuracy: {accuracy:.4f}\")\n",
    "print(\"Precision: \", precision)\n",
    "print(\"Recall: \", recall)\n",
    "print(\"Specificity: \", specificity)\n",
    "print(\"F1-score: \", f1)\n",
    "\n",
    "print(\"\\nAUC Scores:\",auc_scores)"
   ]
  },
  {
   "cell_type": "code",
   "execution_count": null,
   "id": "49f0e993",
   "metadata": {},
   "outputs": [],
   "source": []
  }
 ],
 "metadata": {
  "kernelspec": {
   "display_name": "Python 3 (ipykernel)",
   "language": "python",
   "name": "python3"
  },
  "language_info": {
   "codemirror_mode": {
    "name": "ipython",
    "version": 3
   },
   "file_extension": ".py",
   "mimetype": "text/x-python",
   "name": "python",
   "nbconvert_exporter": "python",
   "pygments_lexer": "ipython3",
   "version": "3.9.16"
  }
 },
 "nbformat": 4,
 "nbformat_minor": 5
}
