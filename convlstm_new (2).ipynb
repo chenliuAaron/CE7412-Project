{
 "cells": [
  {
   "cell_type": "code",
   "execution_count": 1,
   "id": "phbbHNhmPInJ",
   "metadata": {
    "colab": {
     "base_uri": "https://localhost:8080/"
    },
    "id": "phbbHNhmPInJ",
    "outputId": "4713ca7f-3131-4e30-ac8b-9f67ea9d7d02"
   },
   "outputs": [
    {
     "name": "stdout",
     "output_type": "stream",
     "text": [
      "Defaulting to user installation because normal site-packages is not writeable\n",
      "Looking in indexes: https://mirrors.bfsu.edu.cn/pypi/web/simple\n",
      "\u001b[31mERROR: Could not find a version that satisfies the requirement keras.layers.normalization (from versions: none)\u001b[0m\u001b[31m\n",
      "\u001b[0m\u001b[31mERROR: No matching distribution found for keras.layers.normalization\u001b[0m\u001b[31m\n",
      "\u001b[0m\u001b[33mWARNING: There was an error checking the latest version of pip.\u001b[0m\u001b[33m\n",
      "\u001b[0m"
     ]
    }
   ],
   "source": [
    "!pip install keras.layers.normalization"
   ]
  },
  {
   "cell_type": "code",
   "execution_count": 2,
   "id": "36322c65-7fcb-4a41-994c-efb010fc9739",
   "metadata": {
    "id": "36322c65-7fcb-4a41-994c-efb010fc9739"
   },
   "outputs": [],
   "source": [
    "import zipfile\n",
    "import pickle\n",
    "import numpy as np\n",
    "import tensorflow as tf\n",
    "from tensorflow.keras.models import Sequential\n",
    "from tensorflow.keras.layers import ConvLSTM2D, BatchNormalization, Dense, TimeDistributed, Flatten\n",
    "from tensorflow.keras.utils import to_categorical\n",
    "from sklearn.model_selection import train_test_split\n",
    "from sklearn.metrics import confusion_matrix, roc_auc_score, roc_curve, classification_report, accuracy_score\n",
    "import matplotlib.pyplot as plt\n"
   ]
  },
  {
   "cell_type": "code",
   "execution_count": 3,
   "id": "b1e73ec9-144d-4ac1-96db-2df9d97f2698",
   "metadata": {
    "id": "b1e73ec9-144d-4ac1-96db-2df9d97f2698"
   },
   "outputs": [],
   "source": [
    "# Step 1: Unzip the ZIP files\n",
    "zip_filenames = ['Dengue-4-sequences.zip', 'Ebola-sequences.zip', 'SARS-CoV-2-sequences.zip', 'hepatitis-C-3a-sequences.zip', 'influenza-A-sequences.zip', 'mers-sequences.zip']\n",
    "\n",
    "for zip_filename in zip_filenames:\n",
    "    with zipfile.ZipFile(zip_filename, 'r') as zip_ref:\n",
    "        zip_ref.extractall()\n",
    "\n",
    "fasta_filenames = [filename[:-4] for filename in zip_filenames]"
   ]
  },
  {
   "cell_type": "code",
   "execution_count": 4,
   "id": "f23a6942-3f0b-4641-8d74-d960635e1cf2",
   "metadata": {
    "colab": {
     "base_uri": "https://localhost:8080/"
    },
    "id": "f23a6942-3f0b-4641-8d74-d960635e1cf2",
    "outputId": "ed01638b-15ad-4802-f655-5daf5e0d02e2"
   },
   "outputs": [
    {
     "name": "stdout",
     "output_type": "stream",
     "text": [
      "The file Dengue-4-sequences has 3587 sequences.\n",
      "The file Ebola-sequences has 4001 sequences.\n",
      "The file hepatitis-C-3a-sequences has 3331 sequences.\n",
      "The file influenza-A-sequences has 3669 sequences.\n",
      "The file mers-sequences has 1633 sequences.\n",
      "The file SARS-CoV-2-sequences has 4752 sequences.\n"
     ]
    }
   ],
   "source": [
    "# Step 2: Apply k-mer encoding\n",
    "def k_mer_enc(filename: str, k: int):\n",
    "    with open(filename + '.fasta', 'r') as file:\n",
    "        seqs = []\n",
    "        seq = \"\"\n",
    "        for line in file.readlines():\n",
    "            if line.startswith('>'):\n",
    "                if len(seq) > 0:\n",
    "                    seqs.append(seq)\n",
    "                    seq = \"\"\n",
    "            else:\n",
    "                seq += line.strip('\\n')\n",
    "        if len(seq) > 0:\n",
    "            seqs.append(seq)\n",
    "\n",
    "        print(f'The file {filename} has {len(seqs)} sequences.')\n",
    "\n",
    "        encodings = []\n",
    "        for seq in seqs:\n",
    "            encoding = []\n",
    "            code = 0\n",
    "            for c in seq:\n",
    "                code *= 4\n",
    "                if c == 'A':\n",
    "                    code += 0\n",
    "                if c == 'C':\n",
    "                    code += 1\n",
    "                if c == 'G':\n",
    "                    code += 2\n",
    "                if c == 'T':\n",
    "                    code += 3\n",
    "                code %= 4 ** k\n",
    "                encoding.append(code)\n",
    "            assert len(seq) == len(encoding), 'Error: Unmatched number of characters!'\n",
    "            encodings.append(encoding)\n",
    "        assert len(seqs) == len(encodings), 'Error: Unmatched number of sequences!'\n",
    "\n",
    "        with open(filename + '.pkl', 'wb') as pkfile:\n",
    "            pickle.dump(encodings, pkfile)\n",
    "\n",
    "filenames = ['Dengue-4-sequences', 'Ebola-sequences', 'hepatitis-C-3a-sequences',\n",
    "             'influenza-A-sequences', 'mers-sequences', 'SARS-CoV-2-sequences']\n",
    "for filename in filenames:\n",
    "    k_mer_enc(filename, 4)\n"
   ]
  },
  {
   "cell_type": "code",
   "execution_count": 5,
   "id": "VeMml_9zPtcX",
   "metadata": {
    "id": "VeMml_9zPtcX"
   },
   "outputs": [],
   "source": [
    "# Step 3: Load encoded sequences and labels\n",
    "data = []\n",
    "labels = []\n",
    "for i, filename in enumerate(filenames):\n",
    "    with open(filename + '.pkl', 'rb') as pkfile:\n",
    "        encodings = pickle.load(pkfile)\n",
    "        data.extend(encodings)\n",
    "        labels.extend([i] * len(encodings))"
   ]
  },
  {
   "cell_type": "code",
   "execution_count": 6,
   "id": "1vWtXXqnR1ya",
   "metadata": {
    "id": "1vWtXXqnR1ya"
   },
   "outputs": [],
   "source": [
    "# Step 4: Pad sequences to the same length\n",
    "max_seq_length = max([len(seq) for seq in data])\n",
    "padded_data = tf.keras.preprocessing.sequence.pad_sequences(data, maxlen=max_seq_length, padding='post')"
   ]
  },
  {
   "cell_type": "code",
   "execution_count": 7,
   "id": "m5gB74f3TSMo",
   "metadata": {
    "id": "m5gB74f3TSMo"
   },
   "outputs": [],
   "source": [
    "# Step 5: Split data into training and testing sets\n",
    "X_train, X_test, y_train, y_test = train_test_split(padded_data, labels, test_size=0.2, stratify=labels, random_state=42)\n",
    "y_train_cat = to_categorical(y_train)\n",
    "y_test_cat = to_categorical(y_test)"
   ]
  },
  {
   "cell_type": "code",
   "execution_count": 8,
   "id": "8rxBAlpfTVE5",
   "metadata": {
    "id": "8rxBAlpfTVE5"
   },
   "outputs": [],
   "source": [
    "# Step 6: Reshape the data for ConvLSTM input\n",
    "X_train_reshaped = X_train.reshape(X_train.shape[0], 1, X_train.shape[1], 1, 1)\n",
    "X_test_reshaped = X_test.reshape(X_test.shape[0], 1, X_test.shape[1], 1, 1)"
   ]
  },
  {
   "cell_type": "code",
   "execution_count": 9,
   "id": "1x8QRPzpTVJq",
   "metadata": {
    "id": "1x8QRPzpTVJq"
   },
   "outputs": [],
   "source": [
    "# Step 7: Create ConvLSTM model\n",
    "from keras.layers import Flatten\n",
    "def create_convlstm_model(input_shape, num_classes, learning_rate):\n",
    "    model = Sequential([\n",
    "        # ConvLSTM2D layer\n",
    "        ConvLSTM2D(filters=64, kernel_size=(3, 1), activation='relu', padding='same', input_shape=input_shape, return_sequences=True),\n",
    "        BatchNormalization(),\n",
    "\n",
    "        # Second ConvLSTM2D layer\n",
    "        ConvLSTM2D(filters=64, kernel_size=(3, 1), activation='relu', padding='same', return_sequences=True),\n",
    "        BatchNormalization(),\n",
    "\n",
    "        # TimeDistributed Flatten layer\n",
    "        TimeDistributed(Flatten()),\n",
    "\n",
    "        # Dense layer\n",
    "        Dense(128, activation='relu'),\n",
    "        Flatten(),  # r\n",
    "        # Output layer\n",
    "        Dense(num_classes, activation='softmax')\n",
    "    ])\n",
    "\n",
    "    # Create an Adam optimizer with the specified learning rate\n",
    "    optimizer = Adam(learning_rate=learning_rate)\n",
    "\n",
    "    model.compile(optimizer=optimizer, loss='categorical_crossentropy', metrics=['accuracy'])\n",
    "    return model"
   ]
  },
  {
   "cell_type": "code",
   "execution_count": 10,
   "id": "597a3453-62e9-49e6-97e5-48f237b6cd82",
   "metadata": {},
   "outputs": [],
   "source": [
    "from tensorflow.keras.optimizers import Adam\n",
    "from tensorflow.keras.callbacks import EarlyStopping"
   ]
  },
  {
   "cell_type": "code",
   "execution_count": 11,
   "id": "bfc7c6d4-b31a-4e74-bc3b-11e8b881e225",
   "metadata": {
    "tags": []
   },
   "outputs": [],
   "source": [
    "early_stop = EarlyStopping(\n",
    "    monitor='val_loss',  \n",
    "    patience=4,  \n",
    "    verbose=1,  \n",
    "    restore_best_weights=True,  \n",
    ")"
   ]
  },
  {
   "cell_type": "code",
   "execution_count": 12,
   "id": "g5BfUFiyT4Eb",
   "metadata": {
    "colab": {
     "base_uri": "https://localhost:8080/"
    },
    "id": "g5BfUFiyT4Eb",
    "outputId": "2695e085-9d8e-4e00-9de4-fc11f2b86783"
   },
   "outputs": [
    {
     "name": "stderr",
     "output_type": "stream",
     "text": [
      "2023-04-11 04:35:29.693565: I tensorflow/core/platform/cpu_feature_guard.cc:151] This TensorFlow binary is optimized with oneAPI Deep Neural Network Library (oneDNN) to use the following CPU instructions in performance-critical operations:  AVX2 FMA\n",
      "To enable them in other operations, rebuild TensorFlow with the appropriate compiler flags.\n",
      "2023-04-11 04:35:30.233337: I tensorflow/core/common_runtime/gpu/gpu_device.cc:1525] Created device /job:localhost/replica:0/task:0/device:GPU:0 with 22310 MB memory:  -> device: 0, name: NVIDIA GeForce RTX 3090, pci bus id: 0000:03:00.0, compute capability: 8.6\n"
     ]
    },
    {
     "name": "stdout",
     "output_type": "stream",
     "text": [
      "Epoch 1/20\n"
     ]
    },
    {
     "name": "stderr",
     "output_type": "stream",
     "text": [
      "2023-04-11 04:35:31.111724: W tensorflow/core/framework/cpu_allocator_impl.cc:82] Allocation of 1636624992 exceeds 10% of free system memory.\n",
      "2023-04-11 04:35:38.851909: I tensorflow/stream_executor/cuda/cuda_dnn.cc:368] Loaded cuDNN version 8400\n",
      "2023-04-11 04:35:40.945526: I tensorflow/stream_executor/cuda/cuda_blas.cc:1786] TensorFloat-32 will be used for the matrix multiplication. This will only be logged once.\n"
     ]
    },
    {
     "name": "stdout",
     "output_type": "stream",
     "text": [
      "420/420 [==============================] - 111s 241ms/step - loss: 0.3590 - accuracy: 0.9224 - val_loss: 0.2627 - val_accuracy: 0.9368\n",
      "Epoch 2/20\n",
      "420/420 [==============================] - 99s 235ms/step - loss: 0.0927 - accuracy: 0.9743 - val_loss: 0.2173 - val_accuracy: 0.9467\n",
      "Epoch 3/20\n",
      "420/420 [==============================] - 99s 235ms/step - loss: 0.0396 - accuracy: 0.9886 - val_loss: 0.1256 - val_accuracy: 0.9639\n",
      "Epoch 4/20\n",
      "420/420 [==============================] - 99s 236ms/step - loss: 0.0218 - accuracy: 0.9934 - val_loss: 0.0800 - val_accuracy: 0.9812\n",
      "Epoch 5/20\n",
      "420/420 [==============================] - 98s 234ms/step - loss: 0.0270 - accuracy: 0.9920 - val_loss: 0.0862 - val_accuracy: 0.9791\n",
      "Epoch 6/20\n",
      "420/420 [==============================] - 99s 236ms/step - loss: 0.0155 - accuracy: 0.9954 - val_loss: 0.0629 - val_accuracy: 0.9893\n",
      "Epoch 7/20\n",
      "420/420 [==============================] - 99s 236ms/step - loss: 0.0141 - accuracy: 0.9958 - val_loss: 0.0566 - val_accuracy: 0.9857\n",
      "Epoch 8/20\n",
      "420/420 [==============================] - 98s 234ms/step - loss: 0.0125 - accuracy: 0.9961 - val_loss: 0.1287 - val_accuracy: 0.9806\n",
      "Epoch 9/20\n",
      "420/420 [==============================] - 98s 234ms/step - loss: 0.0353 - accuracy: 0.9937 - val_loss: 0.0864 - val_accuracy: 0.9851\n",
      "Epoch 10/20\n",
      "420/420 [==============================] - 98s 234ms/step - loss: 0.0108 - accuracy: 0.9987 - val_loss: 0.0604 - val_accuracy: 0.9893\n",
      "Epoch 11/20\n",
      "420/420 [==============================] - ETA: 0s - loss: 0.0037 - accuracy: 0.9987Restoring model weights from the end of the best epoch: 7.\n",
      "420/420 [==============================] - 99s 235ms/step - loss: 0.0037 - accuracy: 0.9987 - val_loss: 0.0632 - val_accuracy: 0.9872\n",
      "Epoch 11: early stopping\n"
     ]
    }
   ],
   "source": [
    "# Step 8: Instantiate and train the model\n",
    "learning_rate = 0.00001  # Set your desired learning rate\n",
    "input_shape = (X_train_reshaped.shape[1], X_train_reshaped.shape[2], X_train_reshaped.shape[3], X_train_reshaped.shape[4])\n",
    "num_classes = np.unique(y_train).shape[0]\n",
    "convlstm_model = create_convlstm_model(input_shape, num_classes, learning_rate)\n",
    "history = convlstm_model.fit(X_train_reshaped, y_train_cat, epochs=20, batch_size=32, validation_split=0.2,callbacks=[early_stop])"
   ]
  },
  {
   "cell_type": "code",
   "execution_count": 13,
   "id": "55ffa9aa-4300-4aac-a1ec-5d39855aa8a2",
   "metadata": {},
   "outputs": [],
   "source": [
    "convlstm_model.save('convlstm_model.h5')"
   ]
  },
  {
   "cell_type": "code",
   "execution_count": 14,
   "id": "F3p2AUriY6Pm",
   "metadata": {
    "id": "F3p2AUriY6Pm"
   },
   "outputs": [
    {
     "name": "stdout",
     "output_type": "stream",
     "text": [
      "132/132 [==============================] - 9s 71ms/step - loss: 0.0399 - accuracy: 0.9871\n",
      "Test accuracy: 0.9871275424957275\n"
     ]
    }
   ],
   "source": [
    "# Step 9: Evaluate the model\n",
    "test_loss, test_acc = convlstm_model.evaluate(X_test_reshaped, y_test_cat)\n",
    "print(f'Test accuracy: {test_acc}')"
   ]
  },
  {
   "cell_type": "code",
   "execution_count": 15,
   "id": "VIi5Ax-JY8i1",
   "metadata": {
    "id": "VIi5Ax-JY8i1"
   },
   "outputs": [
    {
     "data": {
      "image/png": "[encoded data removed]",
      "text/plain": [
       "<Figure size 864x288 with 2 Axes>"
      ]
     },
     "metadata": {
      "needs_background": "light"
     },
     "output_type": "display_data"
    }
   ],
   "source": [
    "# Step 10: Plot training and validation accuracy and loss\n",
    "def plot_history(history):\n",
    "    plt.figure(figsize=(12, 4))\n",
    "\n",
    "    plt.subplot(1, 2, 1)\n",
    "    plt.plot(history.history['accuracy'], label='Training accuracy')\n",
    "    plt.plot(history.history['val_accuracy'], label='Validation accuracy')\n",
    "    plt.legend()\n",
    "    plt.xlabel('Epochs')\n",
    "    plt.ylabel('Accuracy')\n",
    "    plt.title('Training and Validation Accuracy')\n",
    "\n",
    "    plt.subplot(1, 2, 2)\n",
    "    plt.plot(history.history['loss'], label='Training loss')\n",
    "    plt.plot(history.history['val_loss'], label='Validation loss')\n",
    "    plt.legend()\n",
    "    plt.xlabel('Epochs')\n",
    "    plt.ylabel('Loss')\n",
    "    plt.title('Training and Validation Loss')\n",
    "\n",
    "    plt.show()\n",
    "\n",
    "plot_history(history)\n"
   ]
  },
  {
   "cell_type": "code",
   "execution_count": 16,
   "id": "7BbZCRfXY-0V",
   "metadata": {
    "id": "7BbZCRfXY-0V"
   },
   "outputs": [
    {
     "name": "stdout",
     "output_type": "stream",
     "text": [
      "Confusion Matrix:\n",
      "[[708   3   0   3   3   0]\n",
      " [  5 788   0   2   5   0]\n",
      " [  2   0 658   0   6   0]\n",
      " [  7   0   0 722   5   0]\n",
      " [ 10   1   1   1 314   0]\n",
      " [  0   0   0   0   0 951]]\n",
      "\n",
      "Classification Report:\n",
      "              precision    recall  f1-score   support\n",
      "\n",
      "           0       0.97      0.99      0.98       717\n",
      "           1       0.99      0.98      0.99       800\n",
      "           2       1.00      0.99      0.99       666\n",
      "           3       0.99      0.98      0.99       734\n",
      "           4       0.94      0.96      0.95       327\n",
      "           5       1.00      1.00      1.00       951\n",
      "\n",
      "    accuracy                           0.99      4195\n",
      "   macro avg       0.98      0.98      0.98      4195\n",
      "weighted avg       0.99      0.99      0.99      4195\n",
      "\n"
     ]
    }
   ],
   "source": [
    "# Step 11: Analyze model performance using classification metrics\n",
    "y_pred = convlstm_model.predict(X_test_reshaped)\n",
    "y_pred_classes = np.argmax(y_pred, axis=1)\n",
    "\n",
    "print('Confusion Matrix:')\n",
    "print(confusion_matrix(y_test, y_pred_classes))\n",
    "print('\\nClassification Report:')\n",
    "print(classification_report(y_test, y_pred_classes))"
   ]
  },
  {
   "cell_type": "code",
   "execution_count": 18,
   "id": "6ad615a9-34bd-4d7d-bc59-79951e301a8b",
   "metadata": {},
   "outputs": [
    {
     "name": "stdout",
     "output_type": "stream",
     "text": [
      "132/132 [==============================] - 9s 71ms/step - loss: 0.0399 - accuracy: 0.9871\n"
     ]
    }
   ],
   "source": [
    "from sklearn.metrics import accuracy_score, precision_score, recall_score, f1_score, confusion_matrix, roc_auc_score, classification_report\n",
    "\n",
    "# One-hot encode the test labels\n",
    "y_test_cat = tf.keras.utils.to_categorical(y_test, num_classes)\n",
    "\n",
    "# Evaluate the model on the test data\n",
    "test_loss, test_acc = convlstm_model.evaluate(X_test_reshaped, y_test_cat)\n",
    "\n",
    "# Make predictions on the test data\n",
    "y_pred_probs = convlstm_model.predict(X_test_reshaped)\n",
    "y_pred = np.argmax(y_pred_probs, axis=1)\n",
    "\n"
   ]
  },
  {
   "cell_type": "code",
   "execution_count": 19,
   "id": "3fd3694c-790a-41b1-85cb-36b78c271c1f",
   "metadata": {},
   "outputs": [],
   "source": [
    "# Calculate evaluation metrics\n",
    "accuracy = accuracy_score(y_test, y_pred)\n",
    "precision = precision_score(y_test, y_pred, average=None)\n",
    "recall = recall_score(y_test, y_pred, average=None)\n",
    "f1 = f1_score(y_test, y_pred, average=None)\n",
    "conf_mat = confusion_matrix(y_test, y_pred)\n",
    "\n",
    "# Calculate specificity (True Negative Rate) for each class\n",
    "specificity = []\n",
    "for i in range(num_classes):\n",
    "    tn = conf_mat[i, i]\n",
    "    fn = np.sum(conf_mat[:, i]) - tn\n",
    "    specificity.append(tn / (tn + fn))\n",
    "\n"
   ]
  },
  {
   "cell_type": "code",
   "execution_count": 29,
   "id": "e82bea1b-7964-4d73-aa1b-8ea84797c1bc",
   "metadata": {},
   "outputs": [
    {
     "name": "stdout",
     "output_type": "stream",
     "text": [
      "Model Information:\n",
      "\n",
      "Evaluation Metrics:\n",
      "Test Loss: 0.0399\n",
      "Test Acc: 0.9871\n",
      "Accuracy: 0.9871\n",
      "Precision:  [0.96721311 0.99494949 0.99848255 0.99175824 0.94294294 1.        ]\n",
      "Recall:  [0.9874477  0.985      0.98798799 0.98365123 0.96024465 1.        ]\n",
      "Specificity:  [0.9672131147540983, 0.9949494949494949, 0.9984825493171472, 0.9917582417582418, 0.9429429429429429, 1.0]\n",
      "F1-score:  [0.97722567 0.98994975 0.99320755 0.9876881  0.95151515 1.        ]\n",
      "\n",
      "AUC Scores:\n"
     ]
    }
   ],
   "source": [
    "\n",
    "# Calculate AUC score for each class\n",
    "auc_scores = []\n",
    "y_test_array = np.array(y_test)  # Convert y_test to a NumPy array\n",
    "for i in range(num_classes):\n",
    "    binary_y_true = (y_test_array == i).astype(int)\n",
    "    binary_y_pred = y_pred_probs[:, i]\n",
    "    auc = roc_auc_score(binary_y_true, binary_y_pred)\n",
    "    auc_scores.append(auc)\n",
    "\n",
    "print(\"Model Information:\")\n",
    "#print(f\"Embedding Dimension: {embedding_dim}\")\n",
    "#print(f\"Hidden Dimension: {hidden_dim}\")\n",
    "#print(f\"Output Dimension: {output_dim}\")\n",
    "#print(f\"No. of Layers: {num_layers}\")\n",
    "#print(f\"Dropout: {dropout}\")\n",
    "#print(f\"Optimizer: {optimizer}\")\n",
    "#print(f\"No. of Epochs: {num_epochs}\")\n",
    "#print(f\"Batch Size: {batch_size}\")\n",
    "#print(f\"Max Vocab Size: {max_vocab_size}\")\n",
    "print(\"\\nEvaluation Metrics:\")\n",
    "print(f\"Test Loss: {test_loss:.4f}\")\n",
    "print(f\"Test Acc: {test_acc:.4f}\")\n",
    "print(f\"Accuracy: {accuracy:.4f}\")\n",
    "print(\"Precision: \", precision)\n",
    "print(\"Recall: \", recall)\n",
    "print(\"Specificity: \", specificity)\n",
    "print(\"F1-score: \", f1)\n",
    "\n",
    "print(\"\\nAUC Scores:\")"
   ]
  },
  {
   "cell_type": "code",
   "execution_count": 30,
   "id": "a175f3be-7a9e-4424-8a54-2b1b677a83ea",
   "metadata": {},
   "outputs": [
    {
     "name": "stdout",
     "output_type": "stream",
     "text": [
      "Class 0 vs. Other Classes: 0.9995\n",
      "Class 1 vs. Other Classes: 0.9998\n",
      "Class 2 vs. Other Classes: 1.0000\n",
      "Class 3 vs. Other Classes: 0.9999\n",
      "Class 4 vs. Other Classes: 0.9994\n",
      "Class 5 vs. Other Classes: 1.0000\n"
     ]
    }
   ],
   "source": [
    "\n",
    "for i in range(num_classes):\n",
    "    print(f\"Class {i} vs. Other Classes: {auc_scores[i]:.4f}\")"
   ]
  },
  {
   "cell_type": "code",
   "execution_count": 31,
   "id": "06271e72-4c36-4e13-b4d3-b98826ff1759",
   "metadata": {},
   "outputs": [
    {
     "name": "stdout",
     "output_type": "stream",
     "text": [
      "Defaulting to user installation because normal site-packages is not writeable\n",
      "Looking in indexes: https://mirrors.bfsu.edu.cn/pypi/web/simple\n",
      "Requirement already satisfied: matplotlib in /usr/local/lib/python3.9/dist-packages (3.5.2)\n",
      "Collecting seaborn\n",
      "  Downloading https://mirrors.bfsu.edu.cn/pypi/web/packages/8f/2e/17bbb83fbf102687bb2aa3d808add39da820a7698159302a1a69bb82e01c/seaborn-0.12.2-py3-none-any.whl (293 kB)\n",
      "\u001b[2K     \u001b[90m━━━━━━━━━━━━━━━━━━━━━━━━━━━━━━━━━━━━━━━\u001b[0m \u001b[32m293.3/293.3 kB\u001b[0m \u001b[31m1.9 MB/s\u001b[0m eta \u001b[36m0:00:00\u001b[0ma \u001b[36m0:00:01\u001b[0m\n",
      "\u001b[?25hRequirement already satisfied: python-dateutil>=2.7 in /usr/local/lib/python3.9/dist-packages (from matplotlib) (2.8.2)\n",
      "Requirement already satisfied: cycler>=0.10 in /usr/local/lib/python3.9/dist-packages (from matplotlib) (0.11.0)\n",
      "Requirement already satisfied: kiwisolver>=1.0.1 in /usr/local/lib/python3.9/dist-packages (from matplotlib) (1.4.2)\n",
      "Requirement already satisfied: fonttools>=4.22.0 in /usr/local/lib/python3.9/dist-packages (from matplotlib) (4.33.3)\n",
      "Requirement already satisfied: pyparsing>=2.2.1 in /usr/local/lib/python3.9/dist-packages (from matplotlib) (3.0.9)\n",
      "Requirement already satisfied: pillow>=6.2.0 in /usr/local/lib/python3.9/dist-packages (from matplotlib) (9.1.0)\n",
      "Requirement already satisfied: numpy>=1.17 in /usr/local/lib/python3.9/dist-packages (from matplotlib) (1.22.3)\n",
      "Requirement already satisfied: packaging>=20.0 in /usr/local/lib/python3.9/dist-packages (from matplotlib) (21.3)\n",
      "Requirement already satisfied: pandas>=0.25 in /usr/local/lib/python3.9/dist-packages (from seaborn) (1.4.2)\n",
      "Requirement already satisfied: pytz>=2020.1 in /usr/local/lib/python3.9/dist-packages (from pandas>=0.25->seaborn) (2022.1)\n",
      "Requirement already satisfied: six>=1.5 in /usr/local/lib/python3.9/dist-packages (from python-dateutil>=2.7->matplotlib) (1.16.0)\n",
      "Installing collected packages: seaborn\n",
      "Successfully installed seaborn-0.12.2\n",
      "\u001b[33mWARNING: There was an error checking the latest version of pip.\u001b[0m\u001b[33m\n",
      "\u001b[0m"
     ]
    }
   ],
   "source": [
    "!pip install matplotlib seaborn"
   ]
  },
  {
   "cell_type": "code",
   "execution_count": 33,
   "id": "f0cabce2-6bb2-47a7-8868-2626c9561df5",
   "metadata": {},
   "outputs": [
    {
     "data": {
      "image/png": "[encoded data removed]",
      "text/plain": [
       "<Figure size 720x504 with 2 Axes>"
      ]
     },
     "metadata": {
      "needs_background": "light"
     },
     "output_type": "display_data"
    }
   ],
   "source": [
    "import numpy as np\n",
    "import matplotlib.pyplot as plt\n",
    "import seaborn as sns\n",
    "\n",
    "def plot_confusion_matrix(confusion_matrix, class_names):\n",
    "    plt.figure(figsize=(10, 7))\n",
    "    sns.heatmap(confusion_matrix, annot=True, fmt='d', cmap='Blues', xticklabels=class_names, yticklabels=class_names)\n",
    "    plt.xlabel('Predicted Label')\n",
    "    plt.ylabel('True Label')\n",
    "    plt.title('Confusion Matrix')\n",
    "    plt.show()\n",
    "\n",
    "# Define your class names (replace these with your actual class names)\n",
    "class_names = ['Dengue-4-sequences', 'Ebola-sequences', 'hepatitis-C-3a-sequences', 'influenza-A-sequences', 'mers-sequences', 'SARS-CoV-2-sequences']\n",
    "\n",
    "# Assuming your confusion matrix variable is named `confusion_matrix`\n",
    "plot_confusion_matrix(conf_mat, class_names)"
   ]
  },
  {
   "cell_type": "code",
   "execution_count": 34,
   "id": "d4a077a1-d00c-4411-9240-f05b6c3a4f48",
   "metadata": {},
   "outputs": [
    {
     "name": "stdout",
     "output_type": "stream",
     "text": [
      "Model: \"sequential\"\n",
      "_________________________________________________________________\n",
      " Layer (type)                Output Shape              Param #   \n",
      "=================================================================\n",
      " conv_lstm2d (ConvLSTM2D)    (None, 1, 30484, 1, 64)   50176     \n",
      "                                                                 \n",
      " batch_normalization (BatchN  (None, 1, 30484, 1, 64)  256       \n",
      " ormalization)                                                   \n",
      "                                                                 \n",
      " conv_lstm2d_1 (ConvLSTM2D)  (None, 1, 30484, 1, 64)   98560     \n",
      "                                                                 \n",
      " batch_normalization_1 (Batc  (None, 1, 30484, 1, 64)  256       \n",
      " hNormalization)                                                 \n",
      "                                                                 \n",
      " time_distributed (TimeDistr  (None, 1, 1950976)       0         \n",
      " ibuted)                                                         \n",
      "                                                                 \n",
      " dense (Dense)               (None, 1, 128)            249725056 \n",
      "                                                                 \n",
      " flatten_1 (Flatten)         (None, 128)               0         \n",
      "                                                                 \n",
      " dense_1 (Dense)             (None, 6)                 774       \n",
      "                                                                 \n",
      "=================================================================\n",
      "Total params: 249,875,078\n",
      "Trainable params: 249,874,822\n",
      "Non-trainable params: 256\n",
      "_________________________________________________________________\n"
     ]
    }
   ],
   "source": [
    "convlstm_model.summary()"
   ]
  },
  {
   "cell_type": "code",
   "execution_count": null,
   "id": "6a5aa5cd-9f33-4729-84b8-651bd1782070",
   "metadata": {},
   "outputs": [],
   "source": []
  }
 ],
 "metadata": {
  "colab": {
   "provenance": []
  },
  "kernelspec": {
   "display_name": "Python 3 (ipykernel)",
   "language": "python",
   "name": "python3"
  },
  "language_info": {
   "codemirror_mode": {
    "name": "ipython",
    "version": 3
   },
   "file_extension": ".py",
   "mimetype": "text/x-python",
   "name": "python",
   "nbconvert_exporter": "python",
   "pygments_lexer": "ipython3",
   "version": "3.9.12"
  }
 },
 "nbformat": 4,
 "nbformat_minor": 5
}
