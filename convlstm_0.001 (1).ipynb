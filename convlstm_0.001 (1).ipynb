{
 "cells": [
  {
   "cell_type": "code",
   "execution_count": 1,
   "id": "36322c65-7fcb-4a41-994c-efb010fc9739",
   "metadata": {},
   "outputs": [],
   "source": [
    "import numpy as np\n",
    "import torch\n",
    "import torch.nn as nn\n",
    "import torch.optim as optim\n",
    "from torch.utils.data import DataLoader, Dataset\n",
    "from sklearn.model_selection import train_test_split\n",
    "from sklearn.metrics import accuracy_score, precision_score, recall_score, f1_score, roc_auc_score, confusion_matrix, roc_curve\n",
    "import matplotlib.pyplot as plt\n",
    "import pickle\n",
    "import zipfile"
   ]
  },
  {
   "cell_type": "code",
   "execution_count": 2,
   "id": "b1e73ec9-144d-4ac1-96db-2df9d97f2698",
   "metadata": {},
   "outputs": [],
   "source": [
    "# Step 1: Unzip the ZIP files\n",
    "zip_filenames = ['Dengue-4-sequences.zip', 'Ebola-sequences.zip', 'SARS-CoV-2-sequences.zip', 'hepatitis-C-3a-sequences.zip', 'influenza-A-sequences.zip', 'mers-sequences.zip']\n",
    "\n",
    "for zip_filename in zip_filenames:\n",
    "    with zipfile.ZipFile(zip_filename, 'r') as zip_ref:\n",
    "        zip_ref.extractall()\n",
    "\n",
    "fasta_filenames = [filename[:-4] for filename in zip_filenames]"
   ]
  },
  {
   "cell_type": "code",
   "execution_count": 3,
   "id": "f23a6942-3f0b-4641-8d74-d960635e1cf2",
   "metadata": {},
   "outputs": [
    {
     "name": "stdout",
     "output_type": "stream",
     "text": [
      "The file Dengue-4-sequences has 3587 sequences.\n",
      "The file Ebola-sequences has 4001 sequences.\n",
      "The file hepatitis-C-3a-sequences has 3331 sequences.\n",
      "The file influenza-A-sequences has 3669 sequences.\n",
      "The file mers-sequences has 1633 sequences.\n",
      "The file SARS-CoV-2-sequences has 4752 sequences.\n"
     ]
    }
   ],
   "source": [
    "# Step 2: Apply k-mer encoding\n",
    "def k_mer_enc(filename: str, k: int):\n",
    "    with open(filename + '.fasta', 'r') as file:\n",
    "        seqs = []\n",
    "        seq = \"\"\n",
    "        for line in file.readlines():\n",
    "            if line.startswith('>'):\n",
    "                if len(seq) > 0:\n",
    "                    seqs.append(seq)\n",
    "                    seq = \"\"\n",
    "            else:\n",
    "                seq += line.strip('\\n')\n",
    "        if len(seq) > 0:\n",
    "            seqs.append(seq)\n",
    "\n",
    "        print(f'The file {filename} has {len(seqs)} sequences.')\n",
    "\n",
    "        encodings = []\n",
    "        for seq in seqs:\n",
    "            encoding = []\n",
    "            code = 0\n",
    "            for c in seq:\n",
    "                code *= 4\n",
    "                if c == 'A':\n",
    "                    code += 0\n",
    "                if c == 'C':\n",
    "                    code += 1\n",
    "                if c == 'G':\n",
    "                    code += 2\n",
    "                if c == 'T':\n",
    "                    code += 3\n",
    "                code %= 4 ** k\n",
    "                encoding.append(code)\n",
    "            assert len(seq) == len(encoding), 'Error: Unmatched number of characters!'\n",
    "            encodings.append(encoding)\n",
    "        assert len(seqs) == len(encodings), 'Error: Unmatched number of sequences!'\n",
    "\n",
    "        with open(filename + '.pkl', 'wb') as pkfile:\n",
    "            pickle.dump(encodings, pkfile)\n",
    "\n",
    "filenames = ['Dengue-4-sequences', 'Ebola-sequences', 'hepatitis-C-3a-sequences',\n",
    "             'influenza-A-sequences', 'mers-sequences', 'SARS-CoV-2-sequences']\n",
    "for filename in filenames:\n",
    "    k_mer_enc(filename, 4)\n"
   ]
  },
  {
   "cell_type": "code",
   "execution_count": 4,
   "id": "3f8ea5f0-be67-4f80-9494-f1635a0a56e6",
   "metadata": {},
   "outputs": [],
   "source": [
    "class ConvLSTMCell(nn.Module):\n",
    "    def __init__(self, input_channels, hidden_channels, kernel_size):\n",
    "        super(ConvLSTMCell, self).__init__()\n",
    "\n",
    "        self.input_channels = input_channels\n",
    "        self.hidden_channels = hidden_channels\n",
    "        self.kernel_size = kernel_size\n",
    "\n",
    "        padding = kernel_size // 2\n",
    "\n",
    "        self.conv = nn.Sequential(\n",
    "            nn.Conv2d(input_channels + hidden_channels, 4 * hidden_channels, kernel_size, 1, padding),\n",
    "            nn.GroupNorm(4 * hidden_channels // 32, 4 * hidden_channels)\n",
    "        )\n",
    "\n",
    "    def forward(self, input, hidden):\n",
    "        h_cur, c_cur = hidden\n",
    "        combined = torch.cat([input, h_cur], dim=1)\n",
    "        conv_out = self.conv(combined)\n",
    "        cc_i, cc_f, cc_o, cc_g = torch.split(conv_out, self.hidden_channels, dim=1)\n",
    "        i = torch.sigmoid(cc_i)\n",
    "        f = torch.sigmoid(cc_f)\n",
    "        o = torch.sigmoid(cc_o)\n",
    "        g = torch.tanh(cc_g)\n",
    "\n",
    "        c_next = f * c_cur + i * g\n",
    "        h_next = o * torch.tanh(c_next)\n",
    "\n",
    "        return h_next, c_next"
   ]
  },
  {
   "cell_type": "code",
   "execution_count": 5,
   "id": "ab0085f9-5593-4ce6-9229-bd1933188a47",
   "metadata": {},
   "outputs": [],
   "source": [
    "class ConvLSTM(nn.Module):\n",
    "    def __init__(self, input_channels, hidden_channels, kernel_size, num_layers):\n",
    "        super(ConvLSTM, self).__init__()\n",
    "        self.input_channels = input_channels\n",
    "        self.hidden_channels = hidden_channels\n",
    "        self.kernel_size = kernel_size\n",
    "        self.num_layers = num_layers\n",
    "\n",
    "        cell_list = []\n",
    "        for i in range(0, self.num_layers):\n",
    "            cur_input_channels = self.input_channels if i == 0 else self.hidden_channels\n",
    "\n",
    "            cell_list.append(ConvLSTMCell(cur_input_channels, self.hidden_channels, self.kernel_size))\n",
    "\n",
    "        self.cell_list = nn.ModuleList(cell_list)\n",
    "\n",
    "    def forward(self, input, hidden=None):\n",
    "        b, t, c, h, w = input.size()\n",
    "\n",
    "        if hidden is None:\n",
    "            hidden = self.init_hidden(input)\n",
    "\n",
    "        layer_output_list = []\n",
    "        last_states = []\n",
    "\n",
    "        seq_len = input.size(1)\n",
    "        for layer_idx in range(self.num_layers):\n",
    "            h, c = hidden[layer_idx]\n",
    "            output_inner = []\n",
    "            for t in range(seq_len):\n",
    "                h, c = self.cell_list[layer_idx](input[:, t, :, :], (h, c))\n",
    "                output_inner.append(h)\n",
    "\n",
    "            layer_output = torch.stack(output_inner, dim=1)\n",
    "            input = layer_output\n",
    "\n",
    "            layer_output_list.append(layer_output)\n",
    "            last_states.append((h, c))\n",
    "\n",
    "        if self.num_layers == 1:\n",
    "            return layer_output_list[0], last_states[0]\n",
    "        else:\n",
    "            return layer_output_list, last_states\n",
    "\n",
    "    def init_hidden(self, input):\n",
    "        b, _, _, h, w = input.size()\n",
    "        hidden = []\n",
    "        for i in range(self.num_layers):\n",
    "            hidden.append((torch.zeros(b, self.hidden_channels, h, w).to(input.device),\n",
    "                           torch.zeros(b, self.hidden_channels, h, w).to(input.device)))\n",
    "        return hidden"
   ]
  },
  {
   "cell_type": "code",
   "execution_count": 6,
   "id": "a6ff1f4a-8476-4eb2-bd67-0dc05aaf5feb",
   "metadata": {},
   "outputs": [],
   "source": [
    "class VirusClassifier(nn.Module):\n",
    "    def __init__(self, input_channels, hidden_channels, kernel_size, num_layers, output_size):\n",
    "        super(VirusClassifier, self).__init__()\n",
    "\n",
    "        self.hidden_channels = hidden_channels  # Add this line\n",
    "        self.conv_lstm = ConvLSTM(input_channels, hidden_channels, kernel_size, num_layers)\n",
    "        self.fc = nn.Linear(hidden_channels, output_size)\n",
    "        self.sigmoid = nn.Sigmoid()\n",
    "\n",
    "    def forward(self, x):\n",
    "        b, t, c, h, w = x.size()\n",
    "        print(f\"x size before ConvLSTM: {x.size()}\")\n",
    "        x, _ = self.conv_lstm(x.view(b, t, c, h, w))\n",
    "    \n",
    "        for i, output in enumerate(x):\n",
    "            print(f\"Output {i} size: {output.size()}\")\n",
    "    \n",
    "        x = x[-1]\n",
    "        print(f\"x size after ConvLSTM: {x.size()}\")\n",
    "        x = torch.mean(x, dim=[2, 3])\n",
    "        x = x.view(x.size(0), -1)  # Flatten the tensor\n",
    "    \n",
    "        if x.size(1) != self.fc.in_features:\n",
    "            x = x[:, :self.fc.in_features]  # Make sure the input shape matches the expected shape\n",
    "    \n",
    "        x = self.fc(x)\n",
    "        x = self.sigmoid(x)\n",
    "        x = x.squeeze(1)  # Add this line to remove the extra dimension\n",
    "        return x"
   ]
  },
  {
   "cell_type": "code",
   "execution_count": 7,
   "id": "548a00f4-4309-449c-9d63-157de905ff3c",
   "metadata": {},
   "outputs": [],
   "source": [
    "# Step 4: Model training and evaluation\n",
    "class VirusDataset(Dataset):\n",
    "    def __init__(self, encodings, labels):\n",
    "        self.encodings = encodings\n",
    "        self.labels = labels\n",
    "\n",
    "    def __len__(self):\n",
    "        return len(self.encodings)\n",
    "\n",
    "    def __getitem__(self, idx):\n",
    "        encoding = self.encodings[idx]\n",
    "        # Reshape the encoding to have dimensions (time_steps, channels, height, width)\n",
    "        encoding = encoding.reshape(encoding.shape[0], 1, 1, 1)\n",
    "        # Convert the encoding to a FloatTensor\n",
    "        encoding = torch.FloatTensor(encoding)\n",
    "        return encoding, self.labels[idx]"
   ]
  },
  {
   "cell_type": "code",
   "execution_count": null,
   "id": "dd589810-26c1-4a9a-8b4f-697decf16376",
   "metadata": {},
   "outputs": [],
   "source": [
    "def train_epoch(model, dataloader, criterion, optimizer):\n",
    "    model.train()\n",
    "    running_loss = 0.0\n",
    "    correct_predictions = 0\n",
    "    total_predictions = 0\n",
    "\n",
    "    for inputs, targets in dataloader:\n",
    "        # Move tensors to the correct device\n",
    "        inputs = inputs.to(device)\n",
    "        targets = targets.to(device)\n",
    "\n",
    "        # Forward pass\n",
    "        outputs = model(inputs)\n",
    "        loss = criterion(outputs, targets)\n",
    "\n",
    "        # Backward pass\n",
    "        optimizer.zero_grad()\n",
    "        loss.backward()\n",
    "        optimizer.step()\n",
    "\n",
    "        running_loss += loss.item()\n",
    "\n",
    "        # Calculate the number of correct predictions\n",
    "        _, predicted = torch.max(outputs, 1)\n",
    "        correct_predictions += (predicted == targets).sum().item()\n",
    "        total_predictions += targets.size(0)\n",
    "\n",
    "    average_loss = running_loss / len(dataloader)\n",
    "    accuracy = correct_predictions / total_predictions\n",
    "\n",
    "    return average_loss, accuracy\n"
   ]
  },
  {
   "cell_type": "code",
   "execution_count": 8,
   "id": "3f484c15-9a94-4eee-96d8-3b42e971c521",
   "metadata": {},
   "outputs": [],
   "source": [
    "def train_epoch(model, dataloader, criterion, optimizer):\n",
    "    model.train()\n",
    "    running_loss = 0.0\n",
    "    correct = 0\n",
    "    total = 0\n",
    "\n",
    "    for batch_idx, (inputs, targets) in enumerate(dataloader):\n",
    "        inputs = inputs.to(device)\n",
    "        targets = targets.to(device).float()  # Convert targets to Float data type\n",
    "\n",
    "        # Forward pass\n",
    "        outputs = model(inputs)\n",
    "        loss = criterion(outputs, targets)\n",
    "\n",
    "        # Backward pass and optimization\n",
    "        optimizer.zero_grad()\n",
    "        loss.backward()\n",
    "        optimizer.step()\n",
    "\n",
    "        running_loss += loss.item()\n",
    "        total += targets.size(0)\n",
    "        correct += ((outputs > 0.5) == targets).sum().item()\n",
    "\n",
    "    return running_loss / (batch_idx + 1), correct / total"
   ]
  },
  {
   "cell_type": "code",
   "execution_count": 9,
   "id": "475d1b48-905f-4066-998e-d755beac7844",
   "metadata": {},
   "outputs": [],
   "source": [
    "def evaluate(model, dataloader):\n",
    "    model.eval()\n",
    "    predictions = []\n",
    "    truths = []\n",
    "    probs = []\n",
    "\n",
    "    with torch.no_grad():\n",
    "        for batch in dataloader:\n",
    "            inputs, labels = batch\n",
    "            inputs, labels = inputs.to(device), labels.to(device)\n",
    "\n",
    "            outputs = model(inputs)\n",
    "\n",
    "            _, predicted = torch.max(outputs, 1)\n",
    "\n",
    "            predictions.extend(predicted.cpu().numpy())\n",
    "            truths.extend(labels.cpu().numpy())\n",
    "            probs.extend(outputs.cpu().numpy())\n",
    "\n",
    "    return predictions, truths, probs\n"
   ]
  },
  {
   "cell_type": "code",
   "execution_count": 10,
   "id": "750e53d2-c85a-4222-b01c-899e6c0327fd",
   "metadata": {},
   "outputs": [],
   "source": [
    "def plot_roc_curve(y_true, y_pred_prob, num_classes):\n",
    "    fpr = dict()\n",
    "    tpr = dict()\n",
    "\n",
    "    for i in range(num_classes):\n",
    "        fpr[i], tpr[i], _ = roc_curve(y_true, y_pred_prob[:, i], pos_label=i)\n",
    "\n",
    "    for i in range(num_classes):\n",
    "        plt.plot(fpr[i], tpr[i], label=f\"Class {i}\")\n",
    "    plt.xlabel(\"False Positive Rate\")\n",
    "    plt.ylabel(\"True Positive Rate\")\n",
    "    plt.legend()\n",
    "    plt.show()"
   ]
  },
  {
   "cell_type": "code",
   "execution_count": 11,
   "id": "9185b0b5-917e-474a-b9ea-8e20349ba9fc",
   "metadata": {},
   "outputs": [],
   "source": [
    "# Parameters\n",
    "input_channels = 1\n",
    "hidden_channels = 64\n",
    "kernel_size = 3\n",
    "num_layers = 2\n",
    "output_size = 1\n",
    "\n",
    "model = VirusClassifier(input_channels, hidden_channels, kernel_size, num_layers, output_size)"
   ]
  },
  {
   "cell_type": "code",
   "execution_count": 13,
   "id": "76779cf1-57bb-4e4c-9e44-2ae6dc67278c",
   "metadata": {},
   "outputs": [],
   "source": [
    "# Load data\n",
    "encodings = []\n",
    "labels = []\n",
    "for label, fasta_filename in enumerate(fasta_filenames):\n",
    "    with open(fasta_filename + '.pkl', 'rb') as pkfile:\n",
    "        file_encodings = pickle.load(pkfile)\n",
    "        encodings.extend([np.array(enc) for enc in file_encodings])  # Convert nested lists to NumPy arrays\n",
    "        labels.extend([label] * len(file_encodings))\n",
    "\n",
    "encodings = np.array(encodings, dtype=object)\n",
    "labels = np.array(labels)\n",
    "\n",
    "# Find the maximum sequence length\n",
    "max_seq_len = max([enc.shape[0] for enc in encodings])\n",
    "\n",
    "# Pad encodings with zeros to create tensors\n",
    "encodings_padded = []\n",
    "for enc in encodings:\n",
    "    pad_rows = max_seq_len - enc.shape[0]\n",
    "    enc_padded = np.pad(enc, (0, pad_rows), mode='constant', constant_values=0)\n",
    "    encodings_padded.append(enc_padded)\n",
    "\n",
    "encodings = np.stack(encodings_padded)"
   ]
  },
  {
   "cell_type": "code",
   "execution_count": 14,
   "id": "39595dfd-8dee-4ad1-8ff6-e7b2cb5b3d36",
   "metadata": {},
   "outputs": [],
   "source": [
    "def normalize_encodings(encodings):\n",
    "    mean = np.mean(encodings)\n",
    "    std = np.std(encodings)\n",
    "    return (encodings - mean) / std\n",
    "\n",
    "encodings = normalize_encodings(encodings)"
   ]
  },
  {
   "cell_type": "code",
   "execution_count": 16,
   "id": "4021be34-3510-46c5-ae58-c306a3d8f385",
   "metadata": {},
   "outputs": [
    {
     "data": {
      "text/plain": [
       "VirusClassifier(\n",
       "  (conv_lstm): ConvLSTM(\n",
       "    (cell_list): ModuleList(\n",
       "      (0): ConvLSTMCell(\n",
       "        (conv): Sequential(\n",
       "          (0): Conv2d(65, 256, kernel_size=(3, 3), stride=(1, 1), padding=(1, 1))\n",
       "          (1): GroupNorm(8, 256, eps=1e-05, affine=True)\n",
       "        )\n",
       "      )\n",
       "      (1): ConvLSTMCell(\n",
       "        (conv): Sequential(\n",
       "          (0): Conv2d(128, 256, kernel_size=(3, 3), stride=(1, 1), padding=(1, 1))\n",
       "          (1): GroupNorm(8, 256, eps=1e-05, affine=True)\n",
       "        )\n",
       "      )\n",
       "    )\n",
       "  )\n",
       "  (fc): Linear(in_features=64, out_features=1, bias=True)\n",
       "  (sigmoid): Sigmoid()\n",
       ")"
      ]
     },
     "execution_count": 16,
     "metadata": {},
     "output_type": "execute_result"
    }
   ],
   "source": [
    "# Training Parameters\n",
    "num_epochs = 20\n",
    "learning_rate = 0.00001\n",
    "batch_size = 32\n",
    "device = torch.device(\"cuda\" if torch.cuda.is_available() else \"cpu\")\n",
    "\n",
    "# Move the model to the correct device\n",
    "model.to(device)"
   ]
  },
  {
   "cell_type": "code",
   "execution_count": 17,
   "id": "972f5c4a-0da6-4242-a634-9351a8032ab6",
   "metadata": {},
   "outputs": [],
   "source": [
    "# Step 1: Split the data into train, and test sets\n",
    "X_train, X_test, y_train, y_test = train_test_split(encodings, labels, test_size=0.2, random_state=42)\n",
    "\n",
    "train_dataset = VirusDataset(X_train, y_train)\n",
    "test_dataset = VirusDataset(X_test, y_test)\n",
    "\n",
    "train_dataloader = DataLoader(train_dataset, batch_size=batch_size, shuffle=True)\n",
    "test_dataloader = DataLoader(test_dataset, batch_size=batch_size, shuffle=False)"
   ]
  },
  {
   "cell_type": "code",
   "execution_count": null,
   "id": "4da8bd01-ab70-4f66-975f-d2f3ed6865b1",
   "metadata": {},
   "outputs": [],
   "source": [
    "# Step 2: Create an EarlyStopping class\n",
    "#class EarlyStopping:\n",
    "#    def __init__(self, patience=8, min_delta=0.001):\n",
    "#        self.patience = patience\n",
    "#        self.min_delta = min_delta\n",
    "#        self.counter = 0\n",
    "#        self.best_loss = None\n",
    "#        self.stop = False\n",
    "#\n",
    "#    def __call__(self, val_loss):\n",
    "#        if self.best_loss is None:\n",
    "#            self.best_loss = val_loss\n",
    "#        elif self.best_loss - val_loss > self.min_delta:\n",
    "#            self.best_loss = val_loss\n",
    "#            self.counter = 0\n",
    "#        else:\n",
    "#            self.counter += 1\n",
    "#            print(f\"Early stopping counter: {self.counter} out of {self.patience}\")\n",
    "#            if self.counter >= self.patience:\n",
    "#                self.stop = True"
   ]
  },
  {
   "cell_type": "code",
   "execution_count": 18,
   "id": "e656dd24-b03a-4121-93cc-87005b8f884d",
   "metadata": {},
   "outputs": [],
   "source": [
    "# Loss and optimizer\n",
    "criterion = nn.BCELoss()\n",
    "optimizer = torch.optim.Adam(model.parameters(), lr=learning_rate)"
   ]
  },
  {
   "cell_type": "code",
   "execution_count": null,
   "id": "13621149-3276-42f8-ae24-90efa5577491",
   "metadata": {
    "scrolled": true,
    "tags": []
   },
   "outputs": [
    {
     "name": "stdout",
     "output_type": "stream",
     "text": [
      "x size before ConvLSTM: torch.Size([32, 30484, 1, 1, 1])\n",
      "Output 0 size: torch.Size([32, 30484, 64, 1, 1])\n",
      "Output 1 size: torch.Size([32, 30484, 64, 1, 1])\n",
      "x size after ConvLSTM: torch.Size([32, 30484, 64, 1, 1])\n",
      "x size before ConvLSTM: torch.Size([32, 30484, 1, 1, 1])\n",
      "Output 0 size: torch.Size([32, 30484, 64, 1, 1])\n",
      "Output 1 size: torch.Size([32, 30484, 64, 1, 1])\n",
      "x size after ConvLSTM: torch.Size([32, 30484, 64, 1, 1])\n",
      "x size before ConvLSTM: torch.Size([32, 30484, 1, 1, 1])\n",
      "Output 0 size: torch.Size([32, 30484, 64, 1, 1])\n",
      "Output 1 size: torch.Size([32, 30484, 64, 1, 1])\n",
      "x size after ConvLSTM: torch.Size([32, 30484, 64, 1, 1])\n"
     ]
    }
   ],
   "source": [
    "# Train the model\n",
    "for epoch in range(num_epochs):\n",
    "    train_loss, train_accuracy = train_epoch(model, train_dataloader, criterion, optimizer)\n",
    "    print(f\"Epoch [{epoch + 1}/{num_epochs}], Loss: {train_loss:.4f}\")"
   ]
  },
  {
   "cell_type": "code",
   "execution_count": 69,
   "id": "d9c0e7cc-6120-421a-b854-3f6d7adfa7fc",
   "metadata": {},
   "outputs": [],
   "source": [
    "torch.save(model.state_dict(), \"virus_classification_model_0.00001.pt\")"
   ]
  },
  {
   "cell_type": "code",
   "execution_count": 76,
   "id": "7f732283-9c46-4f51-9f6a-a9584f58e12f",
   "metadata": {},
   "outputs": [
    {
     "name": "stdout",
     "output_type": "stream",
     "text": [
      "Test Acc: 0.2198\n",
      "Precision: 0.0366\n",
      "Recall: 0.1667\n",
      "Specificity: 0.1667\n",
      "F-score: 0.0601\n"
     ]
    },
    {
     "name": "stderr",
     "output_type": "stream",
     "text": [
      "/usr/local/lib/python3.9/dist-packages/sklearn/metrics/_classification.py:1327: UndefinedMetricWarning: Precision is ill-defined and being set to 0.0 in labels with no predicted samples. Use `zero_division` parameter to control this behavior.\n",
      "  _warn_prf(average, modifier, msg_start, len(result))\n",
      "/usr/local/lib/python3.9/dist-packages/sklearn/metrics/_classification.py:1379: UserWarning: Note that pos_label (set to 0) is ignored when average != 'binary' (got 'macro'). You may use labels=[pos_label] to specify a single positive class.\n",
      "  warnings.warn(\n"
     ]
    }
   ],
   "source": [
    "# Evaluate model\n",
    "y_pred, y_true, y_probs = evaluate(model, test_dataloader)\n",
    "\n",
    "# Metrics\n",
    "#test_loss = criterion(torch.tensor(y_pred), torch.tensor(y_true)).item()\n",
    "test_acc = accuracy_score(y_true, y_pred)\n",
    "precision = precision_score(y_true, y_pred, average='macro')\n",
    "recall = recall_score(y_true, y_pred, average='macro')\n",
    "specificity = recall_score(y_true, y_pred, average='macro', pos_label=0)\n",
    "f_score = f1_score(y_true, y_pred, average='macro')\n",
    "#print(f\"Test Loss: {test_loss:.4f}\")\n",
    "print(f\"Test Acc: {test_acc:.4f}\")\n",
    "print(f\"Precision: {precision:.4f}\")\n",
    "print(f\"Recall: {recall:.4f}\")\n",
    "print(f\"Specificity: {specificity:.4f}\")\n",
    "print(f\"F-score: {f_score:.4f}\")"
   ]
  },
  {
   "cell_type": "code",
   "execution_count": 77,
   "id": "e07e0dd6-9bf0-458a-94ba-833379ec431e",
   "metadata": {},
   "outputs": [
    {
     "name": "stdout",
     "output_type": "stream",
     "text": [
      "AUC score (Class 0 vs. Other Classes): 0.4996\n",
      "AUC score (Class 1 vs. Other Classes): 0.5000\n",
      "AUC score (Class 2 vs. Other Classes): 0.5000\n",
      "AUC score (Class 3 vs. Other Classes): 0.5000\n",
      "AUC score (Class 4 vs. Other Classes): 0.5000\n",
      "AUC score (Class 5 vs. Other Classes): 0.5000\n"
     ]
    },
    {
     "name": "stderr",
     "output_type": "stream",
     "text": [
      "/tmp/ipykernel_401/2558289316.py:2: UserWarning: Creating a tensor from a list of numpy.ndarrays is extremely slow. Please consider converting the list to a single numpy.ndarray with numpy.array() before converting to a tensor. (Triggered internally at  /home/mist/pytorch/torch/csrc/utils/tensor_new.cpp:210.)\n",
      "  y_pred_prob = torch.softmax(torch.tensor(y_probs), dim=1).numpy()\n"
     ]
    }
   ],
   "source": [
    "# AUC scores\n",
    "y_pred_prob = torch.softmax(torch.tensor(y_probs), dim=1).numpy()\n",
    "for i in range(output_size):\n",
    "    auc = roc_auc_score(np.array(y_true) == i, y_pred_prob[:, i])\n",
    "    print(f\"AUC score (Class {i} vs. Other Classes): {auc:.4f}\")"
   ]
  },
  {
   "cell_type": "code",
   "execution_count": 78,
   "id": "65e024db-d5f0-4f8a-9dd7-5d7ed82ecd0c",
   "metadata": {},
   "outputs": [
    {
     "name": "stdout",
     "output_type": "stream",
     "text": [
      "Confusion matrix:\n",
      " [[  0   0 700   0   0   0]\n",
      " [  0   0 799   0   0   0]\n",
      " [  0   0 922   0   0   0]\n",
      " [  0   0 681   0   0   0]\n",
      " [  0   0 757   0   0   0]\n",
      " [  0   0 336   0   0   0]]\n"
     ]
    }
   ],
   "source": [
    "# Confusion matrix\n",
    "cm = confusion_matrix(y_true, y_pred)\n",
    "print(\"Confusion matrix:\\n\", cm)"
   ]
  },
  {
   "cell_type": "code",
   "execution_count": 79,
   "id": "283178c3-52aa-46b5-b85f-6d10e3998a77",
   "metadata": {},
   "outputs": [
    {
     "data": {
      "image/png": "[encoded data removed]",
      "text/plain": [
       "<Figure size 432x288 with 1 Axes>"
      ]
     },
     "metadata": {
      "needs_background": "light"
     },
     "output_type": "display_data"
    }
   ],
   "source": [
    "# ROC Curve\n",
    "plot_roc_curve(y_true, y_pred_prob, output_size)"
   ]
  },
  {
   "cell_type": "code",
   "execution_count": 81,
   "id": "c6c3cd31-c21e-4374-84c6-18b1cfc765f4",
   "metadata": {},
   "outputs": [
    {
     "name": "stdout",
     "output_type": "stream",
     "text": [
      "Defaulting to user installation because normal site-packages is not writeable\n",
      "Looking in indexes: https://mirrors.bfsu.edu.cn/pypi/web/simple\n",
      "Collecting seaborn\n",
      "  Downloading https://mirrors.bfsu.edu.cn/pypi/web/packages/8f/2e/17bbb83fbf102687bb2aa3d808add39da820a7698159302a1a69bb82e01c/seaborn-0.12.2-py3-none-any.whl (293 kB)\n",
      "\u001b[2K     \u001b[90m━━━━━━━━━━━━━━━━━━━━━━━━━━━━━━━━━━━━━━━\u001b[0m \u001b[32m293.3/293.3 kB\u001b[0m \u001b[31m1.8 MB/s\u001b[0m eta \u001b[36m0:00:00\u001b[0m00:01\u001b[0m00:01\u001b[0m\n",
      "\u001b[?25hRequirement already satisfied: matplotlib!=3.6.1,>=3.1 in /usr/local/lib/python3.9/dist-packages (from seaborn) (3.5.2)\n",
      "Requirement already satisfied: numpy!=1.24.0,>=1.17 in /usr/local/lib/python3.9/dist-packages (from seaborn) (1.22.3)\n",
      "Requirement already satisfied: pandas>=0.25 in /usr/local/lib/python3.9/dist-packages (from seaborn) (1.4.2)\n",
      "Requirement already satisfied: python-dateutil>=2.7 in /usr/local/lib/python3.9/dist-packages (from matplotlib!=3.6.1,>=3.1->seaborn) (2.8.2)\n",
      "Requirement already satisfied: packaging>=20.0 in /usr/local/lib/python3.9/dist-packages (from matplotlib!=3.6.1,>=3.1->seaborn) (21.3)\n",
      "Requirement already satisfied: pillow>=6.2.0 in /usr/local/lib/python3.9/dist-packages (from matplotlib!=3.6.1,>=3.1->seaborn) (9.1.0)\n",
      "Requirement already satisfied: kiwisolver>=1.0.1 in /usr/local/lib/python3.9/dist-packages (from matplotlib!=3.6.1,>=3.1->seaborn) (1.4.2)\n",
      "Requirement already satisfied: pyparsing>=2.2.1 in /usr/local/lib/python3.9/dist-packages (from matplotlib!=3.6.1,>=3.1->seaborn) (3.0.9)\n",
      "Requirement already satisfied: cycler>=0.10 in /usr/local/lib/python3.9/dist-packages (from matplotlib!=3.6.1,>=3.1->seaborn) (0.11.0)\n",
      "Requirement already satisfied: fonttools>=4.22.0 in /usr/local/lib/python3.9/dist-packages (from matplotlib!=3.6.1,>=3.1->seaborn) (4.33.3)\n",
      "Requirement already satisfied: pytz>=2020.1 in /usr/local/lib/python3.9/dist-packages (from pandas>=0.25->seaborn) (2022.1)\n",
      "Requirement already satisfied: six>=1.5 in /usr/local/lib/python3.9/dist-packages (from python-dateutil>=2.7->matplotlib!=3.6.1,>=3.1->seaborn) (1.16.0)\n",
      "Installing collected packages: seaborn\n",
      "Successfully installed seaborn-0.12.2\n",
      "\u001b[33mWARNING: There was an error checking the latest version of pip.\u001b[0m\u001b[33m\n",
      "\u001b[0m"
     ]
    }
   ],
   "source": [
    "!pip install seaborn"
   ]
  },
  {
   "cell_type": "code",
   "execution_count": 82,
   "id": "e661fb46-9264-4475-aec1-5234cda2715c",
   "metadata": {},
   "outputs": [
    {
     "data": {
      "image/png": "[encoded data removed]",
      "text/plain": [
       "<Figure size 720x720 with 2 Axes>"
      ]
     },
     "metadata": {
      "needs_background": "light"
     },
     "output_type": "display_data"
    }
   ],
   "source": [
    "import seaborn as sns\n",
    "\n",
    "def plot_confusion_matrix(cm, labels):\n",
    "    plt.figure(figsize=(10, 10))\n",
    "    sns.heatmap(cm, annot=True, fmt=\"d\", cmap=\"Blues\", xticklabels=labels, yticklabels=labels)\n",
    "    plt.xlabel(\"Predicted\")\n",
    "    plt.ylabel(\"True\")\n",
    "    plt.title(\"Confusion Matrix\")\n",
    "    plt.show()\n",
    "\n",
    "plot_confusion_matrix(cm, fasta_filenames)"
   ]
  },
  {
   "cell_type": "code",
   "execution_count": 83,
   "id": "b71859c5-53e9-4d13-a834-1eb3e81ab1d4",
   "metadata": {},
   "outputs": [
    {
     "name": "stdout",
     "output_type": "stream",
     "text": [
      "AUC score (Class 0 vs. Other Classes): 0.4996\n",
      "AUC score (Class 1 vs. Other Classes): 0.5000\n",
      "AUC score (Class 2 vs. Other Classes): 0.5000\n",
      "AUC score (Class 3 vs. Other Classes): 0.5000\n",
      "AUC score (Class 4 vs. Other Classes): 0.5000\n",
      "AUC score (Class 5 vs. Other Classes): 0.5000\n"
     ]
    }
   ],
   "source": [
    "for i in range(output_size):\n",
    "    auc = roc_auc_score(np.array(y_true) == i, y_pred_prob[:, i])\n",
    "    print(f\"AUC score (Class {i} vs. Other Classes): {auc:.4f}\")"
   ]
  },
  {
   "cell_type": "code",
   "execution_count": 12,
   "id": "fe4b32a9-b358-4358-a3f2-8810f865ac18",
   "metadata": {},
   "outputs": [],
   "source": [
    "import torch\n",
    "torch.cuda.empty_cache()"
   ]
  },
  {
   "cell_type": "code",
   "execution_count": null,
   "id": "59c78a7f-c224-4944-8340-54d80601fe74",
   "metadata": {},
   "outputs": [],
   "source": []
  }
 ],
 "metadata": {
  "kernelspec": {
   "display_name": "Python 3 (ipykernel)",
   "language": "python",
   "name": "python3"
  },
  "language_info": {
   "codemirror_mode": {
    "name": "ipython",
    "version": 3
   },
   "file_extension": ".py",
   "mimetype": "text/x-python",
   "name": "python",
   "nbconvert_exporter": "python",
   "pygments_lexer": "ipython3",
   "version": "3.9.12"
  }
 },
 "nbformat": 4,
 "nbformat_minor": 5
}
