{
 "cells": [
  {
   "cell_type": "code",
   "execution_count": 2,
   "id": "phbbHNhmPInJ",
   "metadata": {
    "colab": {
     "base_uri": "https://localhost:8080/"
    },
    "id": "phbbHNhmPInJ",
    "outputId": "4713ca7f-3131-4e30-ac8b-9f67ea9d7d02"
   },
   "outputs": [
    {
     "name": "stdout",
     "output_type": "stream",
     "text": [
      "Defaulting to user installation because normal site-packages is not writeable\n",
      "Looking in indexes: https://mirrors.bfsu.edu.cn/pypi/web/simple\n",
      "\u001b[31mERROR: Could not find a version that satisfies the requirement keras.layers.normalization (from versions: none)\u001b[0m\u001b[31m\n",
      "\u001b[0m\u001b[31mERROR: No matching distribution found for keras.layers.normalization\u001b[0m\u001b[31m\n",
      "\u001b[0m\u001b[33mWARNING: There was an error checking the latest version of pip.\u001b[0m\u001b[33m\n",
      "\u001b[0m"
     ]
    }
   ],
   "source": [
    "!pip install keras.layers.normalization"
   ]
  },
  {
   "cell_type": "code",
   "execution_count": 2,
   "id": "36322c65-7fcb-4a41-994c-efb010fc9739",
   "metadata": {
    "id": "36322c65-7fcb-4a41-994c-efb010fc9739"
   },
   "outputs": [],
   "source": [
    "import zipfile\n",
    "import pickle\n",
    "import numpy as np\n",
    "import tensorflow as tf\n",
    "from tensorflow.keras.models import Sequential\n",
    "from tensorflow.keras.layers import ConvLSTM2D, BatchNormalization, Dense, TimeDistributed, Flatten\n",
    "from tensorflow.keras.utils import to_categorical\n",
    "from sklearn.model_selection import train_test_split\n",
    "from sklearn.metrics import confusion_matrix, roc_auc_score, roc_curve, classification_report, accuracy_score\n",
    "import matplotlib.pyplot as plt\n"
   ]
  },
  {
   "cell_type": "code",
   "execution_count": 4,
   "id": "b1e73ec9-144d-4ac1-96db-2df9d97f2698",
   "metadata": {
    "id": "b1e73ec9-144d-4ac1-96db-2df9d97f2698"
   },
   "outputs": [],
   "source": [
    "# Step 1: Unzip the ZIP files\n",
    "zip_filenames = ['Dengue-4-sequences.zip', 'Ebola-sequences.zip', 'SARS-CoV-2-sequences.zip', 'hepatitis-C-3a-sequences.zip', 'influenza-A-sequences.zip', 'mers-sequences.zip']\n",
    "\n",
    "for zip_filename in zip_filenames:\n",
    "    with zipfile.ZipFile(zip_filename, 'r') as zip_ref:\n",
    "        zip_ref.extractall()\n",
    "\n",
    "fasta_filenames = [filename[:-4] for filename in zip_filenames]"
   ]
  },
  {
   "cell_type": "code",
   "execution_count": 5,
   "id": "f23a6942-3f0b-4641-8d74-d960635e1cf2",
   "metadata": {
    "colab": {
     "base_uri": "https://localhost:8080/"
    },
    "id": "f23a6942-3f0b-4641-8d74-d960635e1cf2",
    "outputId": "ed01638b-15ad-4802-f655-5daf5e0d02e2"
   },
   "outputs": [
    {
     "name": "stdout",
     "output_type": "stream",
     "text": [
      "The file Dengue-4-sequences has 3587 sequences.\n",
      "The file Ebola-sequences has 4001 sequences.\n",
      "The file hepatitis-C-3a-sequences has 3331 sequences.\n",
      "The file influenza-A-sequences has 3669 sequences.\n",
      "The file mers-sequences has 1633 sequences.\n",
      "The file SARS-CoV-2-sequences has 4752 sequences.\n"
     ]
    }
   ],
   "source": [
    "# Step 2: Apply k-mer encoding\n",
    "def k_mer_enc(filename: str, k: int):\n",
    "    with open(filename + '.fasta', 'r') as file:\n",
    "        seqs = []\n",
    "        seq = \"\"\n",
    "        for line in file.readlines():\n",
    "            if line.startswith('>'):\n",
    "                if len(seq) > 0:\n",
    "                    seqs.append(seq)\n",
    "                    seq = \"\"\n",
    "            else:\n",
    "                seq += line.strip('\\n')\n",
    "        if len(seq) > 0:\n",
    "            seqs.append(seq)\n",
    "\n",
    "        print(f'The file {filename} has {len(seqs)} sequences.')\n",
    "\n",
    "        encodings = []\n",
    "        for seq in seqs:\n",
    "            encoding = []\n",
    "            code = 0\n",
    "            for c in seq:\n",
    "                code *= 4\n",
    "                if c == 'A':\n",
    "                    code += 0\n",
    "                if c == 'C':\n",
    "                    code += 1\n",
    "                if c == 'G':\n",
    "                    code += 2\n",
    "                if c == 'T':\n",
    "                    code += 3\n",
    "                code %= 4 ** k\n",
    "                encoding.append(code)\n",
    "            assert len(seq) == len(encoding), 'Error: Unmatched number of characters!'\n",
    "            encodings.append(encoding)\n",
    "        assert len(seqs) == len(encodings), 'Error: Unmatched number of sequences!'\n",
    "\n",
    "        with open(filename + '.pkl', 'wb') as pkfile:\n",
    "            pickle.dump(encodings, pkfile)\n",
    "\n",
    "filenames = ['Dengue-4-sequences', 'Ebola-sequences', 'hepatitis-C-3a-sequences',\n",
    "             'influenza-A-sequences', 'mers-sequences', 'SARS-CoV-2-sequences']\n",
    "for filename in filenames:\n",
    "    k_mer_enc(filename, 4)\n"
   ]
  },
  {
   "cell_type": "code",
   "execution_count": 3,
   "id": "VeMml_9zPtcX",
   "metadata": {
    "id": "VeMml_9zPtcX"
   },
   "outputs": [
    {
     "ename": "NameError",
     "evalue": "name 'filenames' is not defined",
     "output_type": "error",
     "traceback": [
      "\u001b[0;31m---------------------------------------------------------------------------\u001b[0m",
      "\u001b[0;31mNameError\u001b[0m                                 Traceback (most recent call last)",
      "Input \u001b[0;32mIn [3]\u001b[0m, in \u001b[0;36m<cell line: 4>\u001b[0;34m()\u001b[0m\n\u001b[1;32m      2\u001b[0m data \u001b[38;5;241m=\u001b[39m []\n\u001b[1;32m      3\u001b[0m labels \u001b[38;5;241m=\u001b[39m []\n\u001b[0;32m----> 4\u001b[0m \u001b[38;5;28;01mfor\u001b[39;00m i, filename \u001b[38;5;129;01min\u001b[39;00m \u001b[38;5;28menumerate\u001b[39m(\u001b[43mfilenames\u001b[49m):\n\u001b[1;32m      5\u001b[0m     \u001b[38;5;28;01mwith\u001b[39;00m \u001b[38;5;28mopen\u001b[39m(filename \u001b[38;5;241m+\u001b[39m \u001b[38;5;124m'\u001b[39m\u001b[38;5;124m.pkl\u001b[39m\u001b[38;5;124m'\u001b[39m, \u001b[38;5;124m'\u001b[39m\u001b[38;5;124mrb\u001b[39m\u001b[38;5;124m'\u001b[39m) \u001b[38;5;28;01mas\u001b[39;00m pkfile:\n\u001b[1;32m      6\u001b[0m         encodings \u001b[38;5;241m=\u001b[39m pickle\u001b[38;5;241m.\u001b[39mload(pkfile)\n",
      "\u001b[0;31mNameError\u001b[0m: name 'filenames' is not defined"
     ]
    }
   ],
   "source": [
    "# Step 3: Load encoded sequences and labels\n",
    "data = []\n",
    "labels = []\n",
    "for i, filename in enumerate(filenames):\n",
    "    with open(filename + '.pkl', 'rb') as pkfile:\n",
    "        encodings = pickle.load(pkfile)\n",
    "        data.extend(encodings)\n",
    "        labels.extend([i] * len(encodings))"
   ]
  },
  {
   "cell_type": "code",
   "execution_count": 7,
   "id": "1vWtXXqnR1ya",
   "metadata": {
    "id": "1vWtXXqnR1ya"
   },
   "outputs": [],
   "source": [
    "# Step 4: Pad sequences to the same length\n",
    "max_seq_length = max([len(seq) for seq in data])\n",
    "padded_data = tf.keras.preprocessing.sequence.pad_sequences(data, maxlen=max_seq_length, padding='post')"
   ]
  },
  {
   "cell_type": "code",
   "execution_count": 8,
   "id": "m5gB74f3TSMo",
   "metadata": {
    "id": "m5gB74f3TSMo"
   },
   "outputs": [],
   "source": [
    "# Step 5: Split data into training and testing sets\n",
    "X_train, X_test, y_train, y_test = train_test_split(padded_data, labels, test_size=0.2, stratify=labels, random_state=42)\n",
    "y_train_cat = to_categorical(y_train)\n",
    "y_test_cat = to_categorical(y_test)"
   ]
  },
  {
   "cell_type": "code",
   "execution_count": 9,
   "id": "8rxBAlpfTVE5",
   "metadata": {
    "id": "8rxBAlpfTVE5"
   },
   "outputs": [],
   "source": [
    "# Step 6: Reshape the data for ConvLSTM input\n",
    "X_train_reshaped = X_train.reshape(X_train.shape[0], 1, X_train.shape[1], 1, 1)\n",
    "X_test_reshaped = X_test.reshape(X_test.shape[0], 1, X_test.shape[1], 1, 1)"
   ]
  },
  {
   "cell_type": "code",
   "execution_count": 10,
   "id": "1x8QRPzpTVJq",
   "metadata": {
    "id": "1x8QRPzpTVJq"
   },
   "outputs": [],
   "source": [
    "# Step 7: Create ConvLSTM model\n",
    "from keras.layers import Flatten\n",
    "def create_convlstm_model(input_shape, num_classes, learning_rate):\n",
    "    model = Sequential([\n",
    "        # ConvLSTM2D layer\n",
    "        ConvLSTM2D(filters=64, kernel_size=(3, 1), activation='relu', padding='same', input_shape=input_shape, return_sequences=True),\n",
    "        BatchNormalization(),\n",
    "\n",
    "        # Second ConvLSTM2D layer\n",
    "        ConvLSTM2D(filters=64, kernel_size=(3, 1), activation='relu', padding='same', return_sequences=True),\n",
    "        BatchNormalization(),\n",
    "\n",
    "        # TimeDistributed Flatten layer\n",
    "        TimeDistributed(Flatten()),\n",
    "\n",
    "        # Dense layer\n",
    "        Dense(128, activation='relu'),\n",
    "        Flatten(),  # r\n",
    "        # Output layer\n",
    "        Dense(num_classes, activation='softmax')\n",
    "    ])\n",
    "\n",
    "    # Create an Adam optimizer with the specified learning rate\n",
    "    optimizer = Adam(learning_rate=learning_rate)\n",
    "\n",
    "    model.compile(optimizer=optimizer, loss='categorical_crossentropy', metrics=['accuracy'])\n",
    "    return model"
   ]
  },
  {
   "cell_type": "code",
   "execution_count": 16,
   "id": "597a3453-62e9-49e6-97e5-48f237b6cd82",
   "metadata": {},
   "outputs": [],
   "source": [
    "from tensorflow.keras.optimizers import Adam\n",
    "from tensorflow.keras.callbacks import EarlyStopping"
   ]
  },
  {
   "cell_type": "code",
   "execution_count": 17,
   "id": "bfc7c6d4-b31a-4e74-bc3b-11e8b881e225",
   "metadata": {},
   "outputs": [],
   "source": [
    "early_stop = EarlyStopping(\n",
    "    monitor='val_loss',  \n",
    "    patience=4,  \n",
    "    verbose=1,  \n",
    "    restore_best_weights=True,  \n",
    ")"
   ]
  },
  {
   "cell_type": "code",
   "execution_count": 19,
   "id": "g5BfUFiyT4Eb",
   "metadata": {
    "colab": {
     "base_uri": "https://localhost:8080/"
    },
    "id": "g5BfUFiyT4Eb",
    "outputId": "2695e085-9d8e-4e00-9de4-fc11f2b86783"
   },
   "outputs": [
    {
     "name": "stdout",
     "output_type": "stream",
     "text": [
      "Epoch 1/20\n",
      "420/420 [==============================] - 208s 482ms/step - loss: 0.3552 - accuracy: 0.9204 - val_loss: 0.1644 - val_accuracy: 0.9443\n",
      "Epoch 2/20\n",
      "420/420 [==============================] - 200s 477ms/step - loss: 0.1409 - accuracy: 0.9662 - val_loss: 0.2091 - val_accuracy: 0.9601\n",
      "Epoch 3/20\n",
      "420/420 [==============================] - 207s 492ms/step - loss: 0.0756 - accuracy: 0.9807 - val_loss: 0.1109 - val_accuracy: 0.9741\n",
      "Epoch 4/20\n",
      "420/420 [==============================] - 210s 500ms/step - loss: 0.0331 - accuracy: 0.9902 - val_loss: 0.0610 - val_accuracy: 0.9842\n",
      "Epoch 5/20\n",
      "420/420 [==============================] - 209s 497ms/step - loss: 0.0376 - accuracy: 0.9896 - val_loss: 0.0997 - val_accuracy: 0.9723\n",
      "Epoch 6/20\n",
      "420/420 [==============================] - 210s 499ms/step - loss: 0.0208 - accuracy: 0.9937 - val_loss: 0.0699 - val_accuracy: 0.9824\n",
      "Epoch 7/20\n",
      "420/420 [==============================] - 207s 492ms/step - loss: 0.0114 - accuracy: 0.9961 - val_loss: 0.0540 - val_accuracy: 0.9875\n",
      "Epoch 8/20\n",
      "420/420 [==============================] - 200s 476ms/step - loss: 0.0221 - accuracy: 0.9928 - val_loss: 0.0708 - val_accuracy: 0.9833\n",
      "Epoch 9/20\n",
      "420/420 [==============================] - 198s 472ms/step - loss: 0.0159 - accuracy: 0.9946 - val_loss: 0.0765 - val_accuracy: 0.9836\n",
      "Epoch 10/20\n",
      "420/420 [==============================] - 199s 474ms/step - loss: 0.0049 - accuracy: 0.9987 - val_loss: 0.0600 - val_accuracy: 0.9872\n",
      "Epoch 11/20\n",
      "420/420 [==============================] - 203s 483ms/step - loss: 0.0245 - accuracy: 0.9931 - val_loss: 0.0510 - val_accuracy: 0.9878\n",
      "Epoch 12/20\n",
      "420/420 [==============================] - 209s 497ms/step - loss: 0.0054 - accuracy: 0.9987 - val_loss: 0.1600 - val_accuracy: 0.9645\n",
      "Epoch 13/20\n",
      "420/420 [==============================] - 205s 489ms/step - loss: 0.0061 - accuracy: 0.9984 - val_loss: 0.1806 - val_accuracy: 0.9848\n",
      "Epoch 14/20\n",
      "420/420 [==============================] - 208s 494ms/step - loss: 0.0106 - accuracy: 0.9980 - val_loss: 0.0958 - val_accuracy: 0.9869\n",
      "Epoch 15/20\n",
      "420/420 [==============================] - ETA: 0s - loss: 0.0061 - accuracy: 0.9981Restoring model weights from the end of the best epoch: 11.\n",
      "420/420 [==============================] - 211s 503ms/step - loss: 0.0061 - accuracy: 0.9981 - val_loss: 0.1870 - val_accuracy: 0.9839\n",
      "Epoch 15: early stopping\n"
     ]
    }
   ],
   "source": [
    "# Step 8: Instantiate and train the model\n",
    "learning_rate = 0.00001  # Set your desired learning rate\n",
    "input_shape = (X_train_reshaped.shape[1], X_train_reshaped.shape[2], X_train_reshaped.shape[3], X_train_reshaped.shape[4])\n",
    "num_classes = np.unique(y_train).shape[0]\n",
    "convlstm_model = create_convlstm_model(input_shape, num_classes, learning_rate)\n",
    "history = convlstm_model.fit(X_train_reshaped, y_train_cat, epochs=20, batch_size=32, validation_split=0.2,callbacks=[early_stop])"
   ]
  },
  {
   "cell_type": "code",
   "execution_count": 22,
   "id": "55ffa9aa-4300-4aac-a1ec-5d39855aa8a2",
   "metadata": {},
   "outputs": [
    {
     "ename": "OSError",
     "evalue": "[Errno 28] Can't close file (file write failed: time = Tue Apr 11 03:45:50 2023\n, filename = 'convlstm_model.h5', file descriptor = 83, errno = 28, error message = 'No space left on device', buf = 0xb0f2ed90, total write size = 6144, bytes this sub-write = 6144, bytes actually written = 18446744073709551615, offset = 0)",
     "output_type": "error",
     "traceback": [
      "\u001b[0;31m---------------------------------------------------------------------------\u001b[0m",
      "\u001b[0;31mOSError\u001b[0m                                   Traceback (most recent call last)",
      "Input \u001b[0;32mIn [22]\u001b[0m, in \u001b[0;36m<cell line: 1>\u001b[0;34m()\u001b[0m\n\u001b[0;32m----> 1\u001b[0m \u001b[43mconvlstm_model\u001b[49m\u001b[38;5;241;43m.\u001b[39;49m\u001b[43msave\u001b[49m\u001b[43m(\u001b[49m\u001b[38;5;124;43m'\u001b[39;49m\u001b[38;5;124;43mconvlstm_model.h5\u001b[39;49m\u001b[38;5;124;43m'\u001b[39;49m\u001b[43m)\u001b[49m\n",
      "File \u001b[0;32m/usr/local/lib/python3.9/dist-packages/keras/utils/traceback_utils.py:67\u001b[0m, in \u001b[0;36mfilter_traceback.<locals>.error_handler\u001b[0;34m(*args, **kwargs)\u001b[0m\n\u001b[1;32m     65\u001b[0m \u001b[38;5;28;01mexcept\u001b[39;00m \u001b[38;5;167;01mException\u001b[39;00m \u001b[38;5;28;01mas\u001b[39;00m e:  \u001b[38;5;66;03m# pylint: disable=broad-except\u001b[39;00m\n\u001b[1;32m     66\u001b[0m   filtered_tb \u001b[38;5;241m=\u001b[39m _process_traceback_frames(e\u001b[38;5;241m.\u001b[39m__traceback__)\n\u001b[0;32m---> 67\u001b[0m   \u001b[38;5;28;01mraise\u001b[39;00m e\u001b[38;5;241m.\u001b[39mwith_traceback(filtered_tb) \u001b[38;5;28;01mfrom\u001b[39;00m \u001b[38;5;28mNone\u001b[39m\n\u001b[1;32m     68\u001b[0m \u001b[38;5;28;01mfinally\u001b[39;00m:\n\u001b[1;32m     69\u001b[0m   \u001b[38;5;28;01mdel\u001b[39;00m filtered_tb\n",
      "File \u001b[0;32m/usr/local/lib/python3.9/dist-packages/h5py/_hl/files.py:526\u001b[0m, in \u001b[0;36mFile.close\u001b[0;34m(self)\u001b[0m\n\u001b[1;32m    520\u001b[0m \u001b[38;5;28;01mif\u001b[39;00m \u001b[38;5;28mself\u001b[39m\u001b[38;5;241m.\u001b[39mid\u001b[38;5;241m.\u001b[39mvalid:\n\u001b[1;32m    521\u001b[0m     \u001b[38;5;66;03m# We have to explicitly murder all open objects related to the file\u001b[39;00m\n\u001b[1;32m    522\u001b[0m \n\u001b[1;32m    523\u001b[0m     \u001b[38;5;66;03m# Close file-resident objects first, then the files.\u001b[39;00m\n\u001b[1;32m    524\u001b[0m     \u001b[38;5;66;03m# Otherwise we get errors in MPI mode.\u001b[39;00m\n\u001b[1;32m    525\u001b[0m     \u001b[38;5;28mself\u001b[39m\u001b[38;5;241m.\u001b[39mid\u001b[38;5;241m.\u001b[39m_close_open_objects(h5f\u001b[38;5;241m.\u001b[39mOBJ_LOCAL \u001b[38;5;241m|\u001b[39m \u001b[38;5;241m~\u001b[39mh5f\u001b[38;5;241m.\u001b[39mOBJ_FILE)\n\u001b[0;32m--> 526\u001b[0m     \u001b[38;5;28mself\u001b[39m\u001b[38;5;241m.\u001b[39mid\u001b[38;5;241m.\u001b[39m_close_open_objects(h5f\u001b[38;5;241m.\u001b[39mOBJ_LOCAL \u001b[38;5;241m|\u001b[39m h5f\u001b[38;5;241m.\u001b[39mOBJ_FILE)\n\u001b[1;32m    528\u001b[0m     \u001b[38;5;28mself\u001b[39m\u001b[38;5;241m.\u001b[39mid\u001b[38;5;241m.\u001b[39mclose()\n\u001b[1;32m    529\u001b[0m     _objects\u001b[38;5;241m.\u001b[39mnonlocal_close()\n",
      "File \u001b[0;32mh5py/_objects.pyx:54\u001b[0m, in \u001b[0;36mh5py._objects.with_phil.wrapper\u001b[0;34m()\u001b[0m\n",
      "File \u001b[0;32mh5py/_objects.pyx:55\u001b[0m, in \u001b[0;36mh5py._objects.with_phil.wrapper\u001b[0;34m()\u001b[0m\n",
      "File \u001b[0;32mh5py/h5f.pyx:358\u001b[0m, in \u001b[0;36mh5py.h5f.FileID._close_open_objects\u001b[0;34m()\u001b[0m\n",
      "\u001b[0;31mOSError\u001b[0m: [Errno 28] Can't close file (file write failed: time = Tue Apr 11 03:45:50 2023\n, filename = 'convlstm_model.h5', file descriptor = 83, errno = 28, error message = 'No space left on device', buf = 0xb0f2ed90, total write size = 6144, bytes this sub-write = 6144, bytes actually written = 18446744073709551615, offset = 0)"
     ]
    }
   ],
   "source": [
    "convlstm_model.save('convlstm_model.h5')"
   ]
  },
  {
   "cell_type": "code",
   "execution_count": 23,
   "id": "F3p2AUriY6Pm",
   "metadata": {
    "id": "F3p2AUriY6Pm"
   },
   "outputs": [
    {
     "name": "stdout",
     "output_type": "stream",
     "text": [
      "The history saving thread hit an unexpected error (OperationalError('database or disk is full')).History will not be written to the database.\n",
      "132/132 [==============================] - 23s 173ms/step - loss: 0.0507 - accuracy: 0.9862\n",
      "Test accuracy: 0.9861739873886108\n"
     ]
    }
   ],
   "source": [
    "# Step 9: Evaluate the model\n",
    "test_loss, test_acc = convlstm_model.evaluate(X_test_reshaped, y_test_cat)\n",
    "print(f'Test accuracy: {test_acc}')"
   ]
  },
  {
   "cell_type": "code",
   "execution_count": 24,
   "id": "VIi5Ax-JY8i1",
   "metadata": {
    "id": "VIi5Ax-JY8i1"
   },
   "outputs": [
    {
     "data": {
      "image/png": "[encoded data removed]",
      "text/plain": [
       "<Figure size 864x288 with 2 Axes>"
      ]
     },
     "metadata": {
      "needs_background": "light"
     },
     "output_type": "display_data"
    }
   ],
   "source": [
    "# Step 10: Plot training and validation accuracy and loss\n",
    "def plot_history(history):\n",
    "    plt.figure(figsize=(12, 4))\n",
    "\n",
    "    plt.subplot(1, 2, 1)\n",
    "    plt.plot(history.history['accuracy'], label='Training accuracy')\n",
    "    plt.plot(history.history['val_accuracy'], label='Validation accuracy')\n",
    "    plt.legend()\n",
    "    plt.xlabel('Epochs')\n",
    "    plt.ylabel('Accuracy')\n",
    "    plt.title('Training and Validation Accuracy')\n",
    "\n",
    "    plt.subplot(1, 2, 2)\n",
    "    plt.plot(history.history['loss'], label='Training loss')\n",
    "    plt.plot(history.history['val_loss'], label='Validation loss')\n",
    "    plt.legend()\n",
    "    plt.xlabel('Epochs')\n",
    "    plt.ylabel('Loss')\n",
    "    plt.title('Training and Validation Loss')\n",
    "\n",
    "    plt.show()\n",
    "\n",
    "plot_history(history)\n"
   ]
  },
  {
   "cell_type": "code",
   "execution_count": 25,
   "id": "7BbZCRfXY-0V",
   "metadata": {
    "id": "7BbZCRfXY-0V"
   },
   "outputs": [
    {
     "name": "stdout",
     "output_type": "stream",
     "text": [
      "WARNING:tensorflow:AutoGraph could not transform <function Model.make_predict_function.<locals>.predict_function at 0x7fbe6077a790> and will run it as-is.\n",
      "Please report this to the TensorFlow team. When filing the bug, set the verbosity to 10 (on Linux, `export AUTOGRAPH_VERBOSITY=10`) and attach the full output.\n",
      "Cause: [Errno 28] No space left on device\n",
      "To silence this warning, decorate the function with @tf.autograph.experimental.do_not_convert\n",
      "WARNING: AutoGraph could not transform <function Model.make_predict_function.<locals>.predict_function at 0x7fbe6077a790> and will run it as-is.\n",
      "Please report this to the TensorFlow team. When filing the bug, set the verbosity to 10 (on Linux, `export AUTOGRAPH_VERBOSITY=10`) and attach the full output.\n",
      "Cause: [Errno 28] No space left on device\n",
      "To silence this warning, decorate the function with @tf.autograph.experimental.do_not_convert\n",
      "Confusion Matrix:\n",
      "[[707   4   2   3   1   0]\n",
      " [  4 791   0   4   1   0]\n",
      " [  0   0 666   0   0   0]\n",
      " [ 11   0   0 723   0   0]\n",
      " [ 10   3   8   7 299   0]\n",
      " [  0   0   0   0   0 951]]\n",
      "\n",
      "Classification Report:\n",
      "              precision    recall  f1-score   support\n",
      "\n",
      "           0       0.97      0.99      0.98       717\n",
      "           1       0.99      0.99      0.99       800\n",
      "           2       0.99      1.00      0.99       666\n",
      "           3       0.98      0.99      0.98       734\n",
      "           4       0.99      0.91      0.95       327\n",
      "           5       1.00      1.00      1.00       951\n",
      "\n",
      "    accuracy                           0.99      4195\n",
      "   macro avg       0.99      0.98      0.98      4195\n",
      "weighted avg       0.99      0.99      0.99      4195\n",
      "\n"
     ]
    }
   ],
   "source": [
    "# Step 11: Analyze model performance using classification metrics\n",
    "y_pred = convlstm_model.predict(X_test_reshaped)\n",
    "y_pred_classes = np.argmax(y_pred, axis=1)\n",
    "\n",
    "print('Confusion Matrix:')\n",
    "print(confusion_matrix(y_test, y_pred_classes))\n",
    "print('\\nClassification Report:')\n",
    "print(classification_report(y_test, y_pred_classes))"
   ]
  },
  {
   "cell_type": "code",
   "execution_count": 1,
   "id": "6ad615a9-34bd-4d7d-bc59-79951e301a8b",
   "metadata": {},
   "outputs": [
    {
     "ename": "NameError",
     "evalue": "name 'keras' is not defined",
     "output_type": "error",
     "traceback": [
      "\u001b[0;31m---------------------------------------------------------------------------\u001b[0m",
      "\u001b[0;31mNameError\u001b[0m                                 Traceback (most recent call last)",
      "Input \u001b[0;32mIn [1]\u001b[0m, in \u001b[0;36m<cell line: 4>\u001b[0;34m()\u001b[0m\n\u001b[1;32m      1\u001b[0m \u001b[38;5;28;01mfrom\u001b[39;00m \u001b[38;5;21;01msklearn\u001b[39;00m\u001b[38;5;21;01m.\u001b[39;00m\u001b[38;5;21;01mmetrics\u001b[39;00m \u001b[38;5;28;01mimport\u001b[39;00m accuracy_score, precision_score, recall_score, f1_score, confusion_matrix, roc_auc_score, classification_report\n\u001b[1;32m      3\u001b[0m \u001b[38;5;66;03m# One-hot encode the test labels\u001b[39;00m\n\u001b[0;32m----> 4\u001b[0m y_test_cat \u001b[38;5;241m=\u001b[39m \u001b[43mkeras\u001b[49m\u001b[38;5;241m.\u001b[39mutils\u001b[38;5;241m.\u001b[39mto_categorical(y_test, num_classes)\n\u001b[1;32m      6\u001b[0m \u001b[38;5;66;03m# Evaluate the model on the test data\u001b[39;00m\n\u001b[1;32m      7\u001b[0m test_loss, test_acc \u001b[38;5;241m=\u001b[39m convlstm_model\u001b[38;5;241m.\u001b[39mevaluate(X_test_reshaped, y_test_cat)\n",
      "\u001b[0;31mNameError\u001b[0m: name 'keras' is not defined"
     ]
    }
   ],
   "source": [
    "from sklearn.metrics import accuracy_score, precision_score, recall_score, f1_score, confusion_matrix, roc_auc_score, classification_report\n",
    "\n",
    "# One-hot encode the test labels\n",
    "y_test_cat = keras.utils.to_categorical(y_test, num_classes)\n",
    "\n",
    "# Evaluate the model on the test data\n",
    "test_loss, test_acc = convlstm_model.evaluate(X_test_reshaped, y_test_cat)\n",
    "\n",
    "# Make predictions on the test data\n",
    "y_pred_probs = convlstm_model.predict(X_test_reshaped)\n",
    "y_pred = np.argmax(y_pred_probs, axis=1)\n",
    "\n"
   ]
  },
  {
   "cell_type": "code",
   "execution_count": null,
   "id": "3fd3694c-790a-41b1-85cb-36b78c271c1f",
   "metadata": {},
   "outputs": [],
   "source": [
    "# Calculate evaluation metrics\n",
    "accuracy = accuracy_score(y_test, y_pred)\n",
    "precision = precision_score(y_test, y_pred, average=None)\n",
    "recall = recall_score(y_test, y_pred, average=None)\n",
    "f1 = f1_score(y_test, y_pred, average=None)\n",
    "conf_mat = confusion_matrix(y_test, y_pred)\n",
    "\n",
    "# Calculate specificity (True Negative Rate) for each class\n",
    "specificity = []\n",
    "for i in range(num_classes):\n",
    "    tn = conf_mat[i, i]\n",
    "    fn = np.sum(conf_mat[:, i]) - tn\n",
    "    specificity.append(tn / (tn + fn))\n",
    "\n"
   ]
  },
  {
   "cell_type": "code",
   "execution_count": null,
   "id": "e82bea1b-7964-4d73-aa1b-8ea84797c1bc",
   "metadata": {},
   "outputs": [],
   "source": [
    "# Calculate AUC score for each class\n",
    "auc_scores = []\n",
    "for i in range(num_classes):\n",
    "    binary_y_true = (y_test == i).astype(int)\n",
    "    binary_y_pred = y_pred_probs[:, i]\n",
    "    auc = roc_auc_score(binary_y_true, binary_y_pred)\n",
    "    auc_scores.append(auc)\n",
    "\n",
    "print(\"Model Information:\")\n",
    "print(f\"Embedding Dimension: {embedding_dim}\")\n",
    "print(f\"Hidden Dimension: {hidden_dim}\")\n",
    "print(f\"Output Dimension: {output_dim}\")\n",
    "print(f\"No. of Layers: {num_layers}\")\n",
    "print(f\"Dropout: {dropout}\")\n",
    "print(f\"Optimizer: {optimizer}\")\n",
    "print(f\"No. of Epochs: {num_epochs}\")\n",
    "print(f\"Batch Size: {batch_size}\")\n",
    "print(f\"Max Vocab Size: {max_vocab_size}\")\n",
    "print(\"\\nEvaluation Metrics:\")\n",
    "print(f\"Test Loss: {test_loss:.4f}\")\n",
    "print(f\"Test Acc: {test_acc:.4f}\")\n",
    "print(f\"Accuracy: {accuracy:.4f}\")\n",
    "print(\"Precision: \", precision)\n",
    "print(\"Recall: \", recall)\n",
    "print(\"Specificity: \", specificity)\n",
    "print(\"F1-score: \", f1)\n",
    "\n",
    "print(\"\\nAUC Scores:\")"
   ]
  },
  {
   "cell_type": "code",
   "execution_count": null,
   "id": "a175f3be-7a9e-4424-8a54-2b1b677a83ea",
   "metadata": {},
   "outputs": [],
   "source": [
    "\n",
    "for i in range(num_classes):\n",
    "    print(f\"Class {i} vs. Other Classes: {auc_scores[i]:.4f}\")"
   ]
  }
 ],
 "metadata": {
  "colab": {
   "provenance": []
  },
  "kernelspec": {
   "display_name": "Python 3 (ipykernel)",
   "language": "python",
   "name": "python3"
  },
  "language_info": {
   "codemirror_mode": {
    "name": "ipython",
    "version": 3
   },
   "file_extension": ".py",
   "mimetype": "text/x-python",
   "name": "python",
   "nbconvert_exporter": "python",
   "pygments_lexer": "ipython3",
   "version": "3.9.12"
  }
 },
 "nbformat": 4,
 "nbformat_minor": 5
}
